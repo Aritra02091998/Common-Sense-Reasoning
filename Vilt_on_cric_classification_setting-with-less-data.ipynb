{
 "cells": [
  {
   "cell_type": "markdown",
   "id": "b9b35b92",
   "metadata": {},
   "source": [
    "###### -----------------START--------------------------------------------"
   ]
  },
  {
   "cell_type": "code",
   "execution_count": 1,
   "id": "14e4e725",
   "metadata": {},
   "outputs": [],
   "source": [
    "import json"
   ]
  },
  {
   "cell_type": "code",
   "execution_count": 2,
   "id": "7b320d27",
   "metadata": {},
   "outputs": [],
   "source": [
    "import os"
   ]
  },
  {
   "cell_type": "code",
   "execution_count": 3,
   "id": "d1bf8e79",
   "metadata": {},
   "outputs": [],
   "source": [
    "from tqdm import tqdm"
   ]
  },
  {
   "cell_type": "code",
   "execution_count": 4,
   "id": "52c5e3f8",
   "metadata": {},
   "outputs": [],
   "source": [
    "train_file_path = '/home/aritra/cric/train_questions.json'\n",
    "val_file_path = '/home/aritra/cric/val_questions.json'"
   ]
  },
  {
   "cell_type": "code",
   "execution_count": 5,
   "id": "236c7fc2",
   "metadata": {},
   "outputs": [],
   "source": [
    "# Training Set\n",
    "\n",
    "with open(train_file_path, \"r\") as file:\n",
    "     train_json = json.load(file)"
   ]
  },
  {
   "cell_type": "code",
   "execution_count": 6,
   "id": "ee2e0acf",
   "metadata": {},
   "outputs": [],
   "source": [
    "# Validation Set\n",
    "\n",
    "with open(val_file_path, \"r\") as file:\n",
    "     val_json = json.load(file)"
   ]
  },
  {
   "cell_type": "code",
   "execution_count": 7,
   "id": "48972cda",
   "metadata": {},
   "outputs": [
    {
     "data": {
      "text/plain": [
       "365235"
      ]
     },
     "execution_count": 7,
     "metadata": {},
     "output_type": "execute_result"
    }
   ],
   "source": [
    "len(train_json)"
   ]
  },
  {
   "cell_type": "code",
   "execution_count": 8,
   "id": "d15c9341",
   "metadata": {},
   "outputs": [
    {
     "data": {
      "text/plain": [
       "43112"
      ]
     },
     "execution_count": 8,
     "metadata": {},
     "output_type": "execute_result"
    }
   ],
   "source": [
    "len(val_json)"
   ]
  },
  {
   "cell_type": "code",
   "execution_count": 9,
   "id": "12fab983",
   "metadata": {},
   "outputs": [
    {
     "data": {
      "text/plain": [
       "'which object on the floor can holds flowers'"
      ]
     },
     "execution_count": 9,
     "metadata": {},
     "output_type": "execute_result"
    }
   ],
   "source": [
    "train_json[10]['question']"
   ]
  },
  {
   "cell_type": "code",
   "execution_count": 10,
   "id": "c5b16491",
   "metadata": {},
   "outputs": [
    {
     "data": {
      "text/plain": [
       "'what is the color of the object that is behind the piano and can keep light out of a room'"
      ]
     },
     "execution_count": 10,
     "metadata": {},
     "output_type": "execute_result"
    }
   ],
   "source": [
    "val_json[10]['question']"
   ]
  },
  {
   "cell_type": "markdown",
   "id": "8190c199",
   "metadata": {},
   "source": [
    "##### Processing of Training Set"
   ]
  },
  {
   "cell_type": "code",
   "execution_count": 11,
   "id": "4ae6c0eb",
   "metadata": {},
   "outputs": [],
   "source": [
    "questionList = []\n",
    "answerList = []\n",
    "imgList = []"
   ]
  },
  {
   "cell_type": "code",
   "execution_count": 12,
   "id": "6cdf3bb0",
   "metadata": {},
   "outputs": [
    {
     "data": {
      "text/plain": [
       "1005"
      ]
     },
     "execution_count": 12,
     "metadata": {},
     "output_type": "execute_result"
    }
   ],
   "source": [
    "train_json[2]['image_id']"
   ]
  },
  {
   "cell_type": "markdown",
   "id": "b0248032",
   "metadata": {},
   "source": [
    "#### iter 1: from 0 , 149000 -> error1.txt -> 159\n",
    "#### iter 2: from 150000 , 240000 -> error2.txt -> 34\n",
    "#### iter 3: from 240000 , 365235 ->error3.txt -> 121"
   ]
  },
  {
   "cell_type": "code",
   "execution_count": 13,
   "id": "14b63642",
   "metadata": {},
   "outputs": [],
   "source": [
    "# verifying\n",
    "indexToExclude = []\n",
    "\n",
    "with open('error1.txt', 'r') as file:\n",
    "    for line in file:\n",
    "        number = int(line.strip())\n",
    "        indexToExclude.append(number)\n",
    "        \n",
    "with open('error2.txt', 'r') as file:\n",
    "    for line in file:\n",
    "        number = int(line.strip())\n",
    "        indexToExclude.append(number)\n",
    "        \n",
    "with open('error3.txt', 'r') as file:\n",
    "    for line in file:\n",
    "        number = int(line.strip())\n",
    "        indexToExclude.append(number)"
   ]
  },
  {
   "cell_type": "code",
   "execution_count": 14,
   "id": "9d4ed441",
   "metadata": {},
   "outputs": [
    {
     "data": {
      "text/plain": [
       "314"
      ]
     },
     "execution_count": 14,
     "metadata": {},
     "output_type": "execute_result"
    }
   ],
   "source": [
    "len(indexToExclude)"
   ]
  },
  {
   "cell_type": "code",
   "execution_count": 15,
   "id": "0c8a79d0",
   "metadata": {},
   "outputs": [
    {
     "name": "stderr",
     "output_type": "stream",
     "text": [
      "100%|███████████████████████████████████| 365235/365235 [00:01<00:00, 332945.95it/s]\n"
     ]
    }
   ],
   "source": [
    "for i in tqdm(range(len(train_json))):\n",
    "    \n",
    "    if i in indexToExclude:\n",
    "        continue\n",
    "        \n",
    "    pointer = train_json[i]\n",
    "    \n",
    "    questionList.append(pointer['question'])\n",
    "    answerList.append(pointer['answer'])\n",
    "    imgList.append(pointer['image_id'])"
   ]
  },
  {
   "cell_type": "code",
   "execution_count": 16,
   "id": "e5bc92f9",
   "metadata": {},
   "outputs": [
    {
     "data": {
      "text/plain": [
       "(364921, 364921, 364921)"
      ]
     },
     "execution_count": 16,
     "metadata": {},
     "output_type": "execute_result"
    }
   ],
   "source": [
    "len(questionList), len(answerList), len(imgList)"
   ]
  },
  {
   "cell_type": "code",
   "execution_count": 17,
   "id": "30d0fe78",
   "metadata": {},
   "outputs": [],
   "source": [
    "questionList = questionList[0:4000]\n",
    "answerList = answerList[0:4000]\n",
    "imgList = imgList[0:4000]"
   ]
  },
  {
   "cell_type": "code",
   "execution_count": 18,
   "id": "e5a07596",
   "metadata": {},
   "outputs": [
    {
     "data": {
      "text/plain": [
       "(4000, 4000, 4000)"
      ]
     },
     "execution_count": 18,
     "metadata": {},
     "output_type": "execute_result"
    }
   ],
   "source": [
    "len(questionList), len(answerList), len(imgList)"
   ]
  },
  {
   "cell_type": "code",
   "execution_count": 19,
   "id": "8cf2a90a",
   "metadata": {},
   "outputs": [
    {
     "data": {
      "text/plain": [
       "534"
      ]
     },
     "execution_count": 19,
     "metadata": {},
     "output_type": "execute_result"
    }
   ],
   "source": [
    "len(list(set(answerList)))"
   ]
  },
  {
   "cell_type": "code",
   "execution_count": 20,
   "id": "b38e9e35",
   "metadata": {},
   "outputs": [],
   "source": [
    "# creating word to number mapping\n",
    "\n",
    "mapping = {}\n",
    "counter = 0\n",
    "\n",
    "uniqueAnsList = list(set(answerList))\n",
    "\n",
    "for word in uniqueAnsList:\n",
    "    \n",
    "    if word not in mapping:\n",
    "        \n",
    "        mapping[word] = counter\n",
    "        counter += 1"
   ]
  },
  {
   "cell_type": "code",
   "execution_count": 21,
   "id": "143b6127",
   "metadata": {},
   "outputs": [
    {
     "data": {
      "text/plain": [
       "533"
      ]
     },
     "execution_count": 21,
     "metadata": {},
     "output_type": "execute_result"
    }
   ],
   "source": [
    "max(mapping.values())"
   ]
  },
  {
   "cell_type": "code",
   "execution_count": 22,
   "id": "b4811265",
   "metadata": {},
   "outputs": [],
   "source": [
    "# creating number to word mapping\n",
    "\n",
    "reverse_mapping = dict([(value, key) for key, value in mapping.items()])"
   ]
  },
  {
   "cell_type": "markdown",
   "id": "c6e8749a",
   "metadata": {},
   "source": [
    "####    Processing of Training Set"
   ]
  },
  {
   "cell_type": "code",
   "execution_count": 23,
   "id": "abb6f169",
   "metadata": {},
   "outputs": [
    {
     "name": "stderr",
     "output_type": "stream",
     "text": [
      "100%|███████████████████████████████████████| 4000/4000 [00:00<00:00, 192046.89it/s]\n"
     ]
    }
   ],
   "source": [
    "# generating multiple possible answers\n",
    "# palabels means possible answers\n",
    "\n",
    "import random\n",
    "\n",
    "palabels = []\n",
    "temp = []\n",
    "\n",
    "for i in tqdm(range(len(answerList))):\n",
    "    \n",
    "    temp.append(answerList[i])\n",
    "    temp.append(uniqueAnsList[random.randint(0,533)])\n",
    "    temp.append(uniqueAnsList[random.randint(0,533)])\n",
    "    temp.append(uniqueAnsList[random.randint(0,533)])\n",
    "    \n",
    "    random.shuffle(temp)\n",
    "    palabels.append(temp)\n",
    "    \n",
    "    temp = []\n",
    "    "
   ]
  },
  {
   "cell_type": "code",
   "execution_count": 24,
   "id": "874dd937",
   "metadata": {},
   "outputs": [
    {
     "data": {
      "text/plain": [
       "[['pillar', 'no', 'monitor', 'burner'],\n",
       " ['home', 'napkin', 'flower', 'no'],\n",
       " ['shirt', 'surfboard', 'no', 'lawn'],\n",
       " ['station', 'leaf', 'guitar', 'small'],\n",
       " ['stick', 'beige', 'meat', 'picture']]"
      ]
     },
     "execution_count": 24,
     "metadata": {},
     "output_type": "execute_result"
    }
   ],
   "source": [
    "palabels[0:5]"
   ]
  },
  {
   "cell_type": "code",
   "execution_count": 25,
   "id": "1b7af419",
   "metadata": {},
   "outputs": [
    {
     "name": "stderr",
     "output_type": "stream",
     "text": [
      "100%|███████████████████████████████████████| 4000/4000 [00:00<00:00, 563504.38it/s]\n"
     ]
    }
   ],
   "source": [
    "# creating scores of occurence list\n",
    "\n",
    "scores = []\n",
    "stemp = []\n",
    "\n",
    "for i in tqdm(range(len(answerList))):\n",
    "    correctAnswer = answerList[i]\n",
    "    \n",
    "    for j in range(4):\n",
    "        \n",
    "        if palabels[i][j] == correctAnswer:\n",
    "            \n",
    "            stemp.append(1.0)\n",
    "        \n",
    "        else:\n",
    "            \n",
    "            stemp.append(0.33333333333)\n",
    "    \n",
    "    scores.append(stemp)\n",
    "    stemp = []\n",
    "    "
   ]
  },
  {
   "cell_type": "code",
   "execution_count": 26,
   "id": "ef118b46",
   "metadata": {},
   "outputs": [
    {
     "data": {
      "text/plain": [
       "[[0.33333333333, 1.0, 0.33333333333, 0.33333333333],\n",
       " [0.33333333333, 0.33333333333, 0.33333333333, 1.0],\n",
       " [0.33333333333, 0.33333333333, 1.0, 0.33333333333],\n",
       " [0.33333333333, 0.33333333333, 0.33333333333, 1.0],\n",
       " [0.33333333333, 0.33333333333, 0.33333333333, 1.0]]"
      ]
     },
     "execution_count": 26,
     "metadata": {},
     "output_type": "execute_result"
    }
   ],
   "source": [
    "scores[0:5]"
   ]
  },
  {
   "cell_type": "code",
   "execution_count": 27,
   "id": "2b164942",
   "metadata": {},
   "outputs": [],
   "source": [
    "# converting the palabels to numbers through mapping\n",
    "\n",
    "for i in range(len(palabels)):\n",
    "    \n",
    "    for j in range(4):\n",
    "        \n",
    "        palabels[i][j] = mapping[ palabels[i][j] ]\n"
   ]
  },
  {
   "cell_type": "code",
   "execution_count": 28,
   "id": "2a2b688f",
   "metadata": {},
   "outputs": [
    {
     "data": {
      "text/plain": [
       "[[147, 47, 132, 421],\n",
       " [270, 184, 395, 47],\n",
       " [213, 344, 47, 357],\n",
       " [298, 62, 323, 229],\n",
       " [183, 328, 178, 426]]"
      ]
     },
     "execution_count": 28,
     "metadata": {},
     "output_type": "execute_result"
    }
   ],
   "source": [
    "palabels[0:5]"
   ]
  },
  {
   "cell_type": "code",
   "execution_count": 29,
   "id": "65951dbd",
   "metadata": {},
   "outputs": [
    {
     "name": "stderr",
     "output_type": "stream",
     "text": [
      "100%|███████████████████████████████████████| 4000/4000 [00:00<00:00, 493027.01it/s]\n"
     ]
    }
   ],
   "source": [
    "imgPathList = []\n",
    "filepath = '/home/aritra/cric/images/img/'\n",
    "\n",
    "for i in tqdm(range(len(imgList))):\n",
    "    \n",
    "    imgName = str(imgList[i]) + '.jpg'\n",
    "    concatedPath = os.path.join(filepath,imgName)\n",
    "    \n",
    "    imgPathList.append(concatedPath)"
   ]
  },
  {
   "cell_type": "code",
   "execution_count": 30,
   "id": "b75bbac1",
   "metadata": {},
   "outputs": [],
   "source": [
    "from datasets import load_dataset\n",
    "from datasets import Dataset\n",
    "import datasets\n",
    "from PIL import Image\n",
    "import torch"
   ]
  },
  {
   "cell_type": "code",
   "execution_count": 31,
   "id": "0afea404",
   "metadata": {},
   "outputs": [
    {
     "data": {
      "text/plain": [
       "['/home/aritra/cric/images/img/1000.jpg',\n",
       " '/home/aritra/cric/images/img/1005.jpg',\n",
       " '/home/aritra/cric/images/img/1005.jpg',\n",
       " '/home/aritra/cric/images/img/1005.jpg',\n",
       " '/home/aritra/cric/images/img/1008.jpg']"
      ]
     },
     "execution_count": 31,
     "metadata": {},
     "output_type": "execute_result"
    }
   ],
   "source": [
    "imgPathList[0:5]"
   ]
  },
  {
   "cell_type": "code",
   "execution_count": 32,
   "id": "158e26b9",
   "metadata": {},
   "outputs": [
    {
     "data": {
      "text/plain": [
       "4000"
      ]
     },
     "execution_count": 32,
     "metadata": {},
     "output_type": "execute_result"
    }
   ],
   "source": [
    "len(imgPathList)"
   ]
  },
  {
   "cell_type": "code",
   "execution_count": 33,
   "id": "65956469",
   "metadata": {},
   "outputs": [],
   "source": [
    "listToDictionary = {'questions':questionList, 'answers':palabels, 'scores':scores, 'images':imgPathList}\n",
    "modified_train_set = Dataset.from_dict(listToDictionary)"
   ]
  },
  {
   "cell_type": "code",
   "execution_count": 34,
   "id": "fe569437",
   "metadata": {},
   "outputs": [],
   "source": [
    "# mapping each filepath to images in the directory\n",
    "\n",
    "modified_train_set = modified_train_set.cast_column(\"images\", datasets.Image())"
   ]
  },
  {
   "cell_type": "code",
   "execution_count": 35,
   "id": "01a43c86",
   "metadata": {},
   "outputs": [
    {
     "data": {
      "text/plain": [
       "Dataset({\n",
       "    features: ['questions', 'answers', 'scores', 'images'],\n",
       "    num_rows: 4000\n",
       "})"
      ]
     },
     "execution_count": 35,
     "metadata": {},
     "output_type": "execute_result"
    }
   ],
   "source": [
    "modified_train_set"
   ]
  },
  {
   "cell_type": "markdown",
   "id": "b7b28f14",
   "metadata": {},
   "source": [
    "### Processing of Validation Set"
   ]
  },
  {
   "cell_type": "code",
   "execution_count": 36,
   "id": "acc81bb2",
   "metadata": {},
   "outputs": [],
   "source": [
    "questionList_val = []\n",
    "answerList_val = []\n",
    "imgList_val = []"
   ]
  },
  {
   "cell_type": "code",
   "execution_count": 37,
   "id": "ce77628e",
   "metadata": {},
   "outputs": [],
   "source": [
    "# collecting the index containing errorneous images\n",
    "\n",
    "indexToExcludeVal = []\n",
    "with open('error_validation.txt', 'r') as file:\n",
    "    for line in file:\n",
    "        number = int(line.strip())\n",
    "        indexToExcludeVal.append(number)\n",
    "\n",
    "with open('error_validation2.txt', 'r') as file:\n",
    "    for line in file:\n",
    "        number = int(line.strip())  # Convert the read line to an integer\n",
    "        indexToExcludeVal.append(number)\n"
   ]
  },
  {
   "cell_type": "code",
   "execution_count": 38,
   "id": "08e36650",
   "metadata": {},
   "outputs": [
    {
     "name": "stderr",
     "output_type": "stream",
     "text": [
      "100%|██████████████████████████████████████| 43112/43112 [00:02<00:00, 15464.89it/s]\n"
     ]
    }
   ],
   "source": [
    "# excluding the index containing errorneous images\n",
    "\n",
    "for i in tqdm(range(len(val_json))):\n",
    "    \n",
    "    if (i in indexToExcludeVal):\n",
    "        continue\n",
    "        \n",
    "    pointer = val_json[i]\n",
    "    \n",
    "    questionList_val.append(pointer['question'])\n",
    "    answerList_val.append(pointer['answer'])\n",
    "    imgList_val.append(pointer['image_id'])"
   ]
  },
  {
   "cell_type": "markdown",
   "id": "f01f547b",
   "metadata": {},
   "source": [
    "43112 -> 43068 -> 33175"
   ]
  },
  {
   "cell_type": "code",
   "execution_count": 39,
   "id": "77490cdc",
   "metadata": {},
   "outputs": [
    {
     "data": {
      "text/plain": [
       "(33175, 33175, 33175)"
      ]
     },
     "execution_count": 39,
     "metadata": {},
     "output_type": "execute_result"
    }
   ],
   "source": [
    "len(questionList_val), len(answerList_val), len(imgList_val)"
   ]
  },
  {
   "cell_type": "code",
   "execution_count": 40,
   "id": "7e58606b",
   "metadata": {},
   "outputs": [],
   "source": [
    "questionList_val = questionList_val[0:500]\n",
    "answerList_val = answerList_val[0:500]\n",
    "imgList_val = imgList_val[0:500]"
   ]
  },
  {
   "cell_type": "code",
   "execution_count": 41,
   "id": "7b279ef6",
   "metadata": {},
   "outputs": [
    {
     "data": {
      "text/plain": [
       "(500, 500, 500)"
      ]
     },
     "execution_count": 41,
     "metadata": {},
     "output_type": "execute_result"
    }
   ],
   "source": [
    "len(questionList_val), len(answerList_val), len(imgList_val)"
   ]
  },
  {
   "cell_type": "code",
   "execution_count": 42,
   "id": "2e215d95",
   "metadata": {},
   "outputs": [],
   "source": [
    "uniqueAnswerListVal = list(set(answerList_val))"
   ]
  },
  {
   "cell_type": "code",
   "execution_count": 43,
   "id": "cc56b594",
   "metadata": {},
   "outputs": [
    {
     "data": {
      "text/plain": [
       "121"
      ]
     },
     "execution_count": 43,
     "metadata": {},
     "output_type": "execute_result"
    }
   ],
   "source": [
    "len(uniqueAnswerListVal)"
   ]
  },
  {
   "cell_type": "code",
   "execution_count": 44,
   "id": "939ba0ef",
   "metadata": {},
   "outputs": [],
   "source": [
    "y,n = 0,0\n",
    "store = []\n",
    "for i in range(len(answerList_val)):\n",
    "    \n",
    "    word = answerList_val[i]\n",
    "    \n",
    "    if word in mapping:\n",
    "        y += 1\n",
    "    else:\n",
    "        n+=1\n",
    "        store.append(i)"
   ]
  },
  {
   "cell_type": "code",
   "execution_count": 45,
   "id": "a9d1c28c",
   "metadata": {},
   "outputs": [
    {
     "data": {
      "text/plain": [
       "500"
      ]
     },
     "execution_count": 45,
     "metadata": {},
     "output_type": "execute_result"
    }
   ],
   "source": [
    "y"
   ]
  },
  {
   "cell_type": "code",
   "execution_count": 46,
   "id": "057c424f",
   "metadata": {},
   "outputs": [
    {
     "name": "stderr",
     "output_type": "stream",
     "text": [
      "100%|█████████████████████████████████████████| 500/500 [00:00<00:00, 252729.81it/s]\n"
     ]
    }
   ],
   "source": [
    "# generating multiple possible answers in validation set\n",
    "# palabels means possible answers\n",
    "\n",
    "palabelsVal = []\n",
    "temp = []\n",
    "\n",
    "for i in tqdm(range(len(answerList_val))):\n",
    "    \n",
    "    temp.append(answerList_val[i])\n",
    "    temp.append(uniqueAnswerListVal[random.randint(0,120)])\n",
    "    temp.append(uniqueAnswerListVal[random.randint(0,120)])\n",
    "    temp.append(uniqueAnswerListVal[random.randint(0,120)])\n",
    "    \n",
    "    random.shuffle(temp)\n",
    "    palabelsVal.append(temp)\n",
    "    \n",
    "    temp = []\n",
    "    "
   ]
  },
  {
   "cell_type": "code",
   "execution_count": 47,
   "id": "728109f1",
   "metadata": {},
   "outputs": [
    {
     "data": {
      "text/plain": [
       "[['container', 'table', 'man', 'meat'],\n",
       " ['sign', 'yes', 'fish', 'umbrella'],\n",
       " ['grass', 'shade', 'no', 'chair'],\n",
       " ['blue', 'pot', 'book', 'shelf'],\n",
       " ['bed', 'clock', 'yes', 'brown']]"
      ]
     },
     "execution_count": 47,
     "metadata": {},
     "output_type": "execute_result"
    }
   ],
   "source": [
    "palabelsVal[0:5]"
   ]
  },
  {
   "cell_type": "code",
   "execution_count": 48,
   "id": "4f443a4f",
   "metadata": {},
   "outputs": [
    {
     "name": "stderr",
     "output_type": "stream",
     "text": [
      "100%|█████████████████████████████████████████| 500/500 [00:00<00:00, 787514.83it/s]\n"
     ]
    }
   ],
   "source": [
    "# creating scores of occurence list\n",
    "\n",
    "scores_val = []\n",
    "stemp = []\n",
    "\n",
    "for i in tqdm(range(len(answerList_val))):\n",
    "    correctAnswer = answerList_val[i]\n",
    "    \n",
    "    for j in range(4):\n",
    "        \n",
    "        if palabelsVal[i][j] == correctAnswer:\n",
    "            \n",
    "            stemp.append(1.0)\n",
    "        \n",
    "        else:\n",
    "            \n",
    "            stemp.append(0.33333333333)\n",
    "    \n",
    "    scores_val.append(stemp)\n",
    "    stemp = []\n",
    "    "
   ]
  },
  {
   "cell_type": "code",
   "execution_count": 49,
   "id": "97cb8909",
   "metadata": {},
   "outputs": [
    {
     "data": {
      "text/plain": [
       "[[0.33333333333, 0.33333333333, 1.0, 0.33333333333],\n",
       " [0.33333333333, 1.0, 0.33333333333, 0.33333333333],\n",
       " [0.33333333333, 0.33333333333, 1.0, 0.33333333333],\n",
       " [0.33333333333, 0.33333333333, 1.0, 0.33333333333],\n",
       " [0.33333333333, 0.33333333333, 1.0, 0.33333333333]]"
      ]
     },
     "execution_count": 49,
     "metadata": {},
     "output_type": "execute_result"
    }
   ],
   "source": [
    "scores_val[0:5]"
   ]
  },
  {
   "cell_type": "code",
   "execution_count": 50,
   "id": "953c4257",
   "metadata": {},
   "outputs": [],
   "source": [
    "# converting the palabels to numbers through mapping\n",
    "\n",
    "for i in range(len(palabelsVal)):\n",
    "    \n",
    "    for j in range(4):\n",
    "        \n",
    "        palabelsVal[i][j] = mapping[ palabelsVal[i][j] ]\n"
   ]
  },
  {
   "cell_type": "code",
   "execution_count": 51,
   "id": "e84f8a7b",
   "metadata": {},
   "outputs": [
    {
     "data": {
      "text/plain": [
       "[[205, 509, 386, 178],\n",
       " [444, 20, 199, 384],\n",
       " [78, 305, 47, 378],\n",
       " [9, 247, 44, 467],\n",
       " [25, 365, 20, 268]]"
      ]
     },
     "execution_count": 51,
     "metadata": {},
     "output_type": "execute_result"
    }
   ],
   "source": [
    "palabelsVal[0:5]"
   ]
  },
  {
   "cell_type": "code",
   "execution_count": 52,
   "id": "1b18cba3",
   "metadata": {},
   "outputs": [
    {
     "name": "stderr",
     "output_type": "stream",
     "text": [
      "100%|█████████████████████████████████████████| 500/500 [00:00<00:00, 755458.21it/s]\n"
     ]
    }
   ],
   "source": [
    "imgPathList_val = []\n",
    "filepath = '/home/aritra/cric/images/img/'\n",
    "\n",
    "for i in tqdm(range(len(imgList_val))):\n",
    "    \n",
    "    imgName = str(imgList_val[i]) + '.jpg'\n",
    "    concatedPath = os.path.join(filepath,imgName)\n",
    "    \n",
    "    imgPathList_val.append(concatedPath)"
   ]
  },
  {
   "cell_type": "code",
   "execution_count": 53,
   "id": "ae9e0ee2",
   "metadata": {},
   "outputs": [
    {
     "data": {
      "text/plain": [
       "['/home/aritra/cric/images/img/1003.jpg',\n",
       " '/home/aritra/cric/images/img/1003.jpg',\n",
       " '/home/aritra/cric/images/img/1018.jpg',\n",
       " '/home/aritra/cric/images/img/1018.jpg',\n",
       " '/home/aritra/cric/images/img/1027.jpg']"
      ]
     },
     "execution_count": 53,
     "metadata": {},
     "output_type": "execute_result"
    }
   ],
   "source": [
    "imgPathList_val[0:5]"
   ]
  },
  {
   "cell_type": "code",
   "execution_count": 54,
   "id": "6dc43b9d",
   "metadata": {},
   "outputs": [],
   "source": [
    "# creating HF dataset to map images fast of Val_set\n",
    "\n",
    "listToDictionary = {'questions':questionList_val, 'answers':palabelsVal, 'scores':scores_val, 'images':imgPathList_val}\n",
    "modified_val_set = Dataset.from_dict(listToDictionary)"
   ]
  },
  {
   "cell_type": "code",
   "execution_count": 55,
   "id": "0596e895",
   "metadata": {},
   "outputs": [],
   "source": [
    "# mapping each filepath of Val Set to images in the directory\n",
    "\n",
    "modified_val_set = modified_val_set.cast_column(\"images\", datasets.Image())"
   ]
  },
  {
   "cell_type": "code",
   "execution_count": 56,
   "id": "f438fd43",
   "metadata": {},
   "outputs": [
    {
     "data": {
      "image/png": "[encoded data removed]",
      "text/plain": [
       "<PIL.JpegImagePlugin.JpegImageFile image mode=RGB size=300x225>"
      ]
     },
     "execution_count": 56,
     "metadata": {},
     "output_type": "execute_result"
    }
   ],
   "source": [
    "# testing the mapping of Val Set\n",
    "\n",
    "test_img = modified_val_set[400]['images']\n",
    "test_img.thumbnail((300,300))\n",
    "test_img"
   ]
  },
  {
   "cell_type": "markdown",
   "id": "607636d1",
   "metadata": {},
   "source": [
    "### -------------------------------End of Processing----------------------------------------------------------------------------"
   ]
  },
  {
   "cell_type": "code",
   "execution_count": 57,
   "id": "e4eb76fb",
   "metadata": {},
   "outputs": [],
   "source": [
    "from transformers import ViltProcessor, ViltForQuestionAnswering"
   ]
  },
  {
   "cell_type": "code",
   "execution_count": 58,
   "id": "a8d574b8",
   "metadata": {},
   "outputs": [],
   "source": [
    "from transformers import ViltConfig\n",
    "config = ViltConfig.from_pretrained(\"dandelin/vilt-b32-finetuned-vqa\")"
   ]
  },
  {
   "cell_type": "code",
   "execution_count": 59,
   "id": "0441da90",
   "metadata": {},
   "outputs": [
    {
     "data": {
      "text/plain": [
       "'cuda'"
      ]
     },
     "execution_count": 59,
     "metadata": {},
     "output_type": "execute_result"
    }
   ],
   "source": [
    "device = \"cuda\" if torch.cuda.is_available() else \"cpu\"\n",
    "device"
   ]
  },
  {
   "cell_type": "code",
   "execution_count": 60,
   "id": "276bc507",
   "metadata": {},
   "outputs": [
    {
     "name": "stderr",
     "output_type": "stream",
     "text": [
      "Some weights of ViltForQuestionAnswering were not initialized from the model checkpoint at dandelin/vilt-b32-mlm and are newly initialized: ['classifier.0.bias', 'classifier.3.bias', 'classifier.1.bias', 'classifier.1.weight', 'classifier.0.weight', 'classifier.3.weight']\n",
      "You should probably TRAIN this model on a down-stream task to be able to use it for predictions and inference.\n"
     ]
    }
   ],
   "source": [
    "processor = ViltProcessor.from_pretrained(\"dandelin/vilt-b32-mlm\")\n",
    "model = ViltForQuestionAnswering.from_pretrained(\"dandelin/vilt-b32-mlm\", id2label = reverse_mapping, label2id = mapping).to(device)"
   ]
  },
  {
   "cell_type": "code",
   "execution_count": 61,
   "id": "dfafe845",
   "metadata": {},
   "outputs": [],
   "source": [
    "from torch.utils.data import DataLoader\n",
    "from datasets import Dataset\n",
    "import numpy as np"
   ]
  },
  {
   "cell_type": "code",
   "execution_count": 62,
   "id": "303430b3",
   "metadata": {},
   "outputs": [],
   "source": [
    "class cric_dataset(Dataset):\n",
    "    \n",
    "    def __init__(self, dataset, processor):\n",
    "        self.processor = processor\n",
    "        self.dataset = dataset\n",
    "\n",
    "    def __len__(self):\n",
    "        return len(self.dataset)\n",
    "\n",
    "    def __getitem__(self,idx):\n",
    "        \n",
    "        #print(idx)\n",
    "        item = self.dataset[idx]\n",
    "\n",
    "        #print(item)\n",
    "        \n",
    "        encodings = self.processor(images = item[\"images\"], text = item[\"questions\"], padding=\"max_length\", truncation=True, return_tensors = \"pt\")\n",
    "        encodings = {k:v.squeeze() for k,v in encodings.items()}\n",
    "\n",
    "        labels = item['answers']\n",
    "        scores = item['scores']\n",
    "        \n",
    "        #print(labels)\n",
    "        #print(scores)\n",
    "        \n",
    "        targetWrapper = []\n",
    "        \n",
    "        # for a single data point labels is a list of integer, so just update the indices\n",
    "        # else for a batch(say size 2) labels is a list of list(of indices) then second if will be executed\n",
    "        \n",
    "        if isinstance(labels[0],int):\n",
    "                        \n",
    "            targets = [0]*len(mapping)\n",
    "            for label, score in zip(labels, scores):            \n",
    "                targets[label] = score\n",
    "            targetWrapper = targets\n",
    "        \n",
    "        else:\n",
    "        \n",
    "            for label, score in zip(labels, scores):            \n",
    "                #print(label)\n",
    "                #print(score)\n",
    "        \n",
    "                targets = [0]*len(mapping)\n",
    "                targets = np.asarray(targets, dtype = float)\n",
    "                targets[label] = score\n",
    "                targets = list(targets)\n",
    "\n",
    "                targetWrapper.append(targets)\n",
    "            \n",
    "        \n",
    "        encodings[\"labels\"] = torch.tensor(targetWrapper)\n",
    "        \n",
    "        return encodings"
   ]
  },
  {
   "cell_type": "code",
   "execution_count": 63,
   "id": "fa27f82e",
   "metadata": {},
   "outputs": [],
   "source": [
    "train_dataset_object = cric_dataset(modified_train_set, processor)"
   ]
  },
  {
   "cell_type": "code",
   "execution_count": 64,
   "id": "e5200244",
   "metadata": {},
   "outputs": [],
   "source": [
    "val_dataset_object = cric_dataset(modified_val_set, processor)"
   ]
  },
  {
   "cell_type": "code",
   "execution_count": 65,
   "id": "4b548a09",
   "metadata": {},
   "outputs": [],
   "source": [
    "def collate_fn(batch):\n",
    "  \n",
    "    input_ids = [item['input_ids'] for item in batch]\n",
    "    pixel_values = [item['pixel_values'] for item in batch]\n",
    "    attention_mask = [item['attention_mask'] for item in batch]\n",
    "    token_type_ids = [item['token_type_ids'] for item in batch]\n",
    "    labels = [item['labels'] for item in batch]\n",
    "        \n",
    "    # create padded pixel values and corresponding pixel mask\n",
    "    \n",
    "    encoding = processor.image_processor.pad(pixel_values, return_tensors=\"pt\")\n",
    "\n",
    "    # create new batch\n",
    "    \n",
    "    batch = {}\n",
    "    \n",
    "    batch['input_ids'] = torch.stack(input_ids)\n",
    "    batch['attention_mask'] = torch.stack(attention_mask)\n",
    "    batch['token_type_ids'] = torch.stack(token_type_ids)\n",
    "    batch['pixel_values'] = encoding['pixel_values']\n",
    "    batch['pixel_mask'] = encoding['pixel_mask']\n",
    "    batch['labels'] = torch.stack(labels, dim = 0 )\n",
    "\n",
    "    return batch\n"
   ]
  },
  {
   "cell_type": "code",
   "execution_count": 66,
   "id": "fec6556e",
   "metadata": {},
   "outputs": [],
   "source": [
    "train_dataloader = DataLoader(train_dataset_object, collate_fn = collate_fn, shuffle = True, batch_size = 16)"
   ]
  },
  {
   "cell_type": "code",
   "execution_count": 67,
   "id": "711ea0d0",
   "metadata": {},
   "outputs": [],
   "source": [
    "val_dataloader = DataLoader(val_dataset_object, collate_fn = collate_fn, shuffle = True, batch_size = 16)"
   ]
  },
  {
   "cell_type": "code",
   "execution_count": 68,
   "id": "6a3db4f2",
   "metadata": {},
   "outputs": [
    {
     "name": "stdout",
     "output_type": "stream",
     "text": [
      "input_ids torch.Size([16, 40])\n",
      "\n",
      "attention_mask torch.Size([16, 40])\n",
      "\n",
      "token_type_ids torch.Size([16, 40])\n",
      "\n",
      "pixel_values torch.Size([16, 3, 576, 608])\n",
      "\n",
      "pixel_mask torch.Size([16, 576, 608])\n",
      "\n",
      "labels torch.Size([16, 534])\n",
      "\n",
      "250\n",
      "dict_keys(['input_ids', 'attention_mask', 'token_type_ids', 'pixel_values', 'pixel_mask', 'labels'])\n"
     ]
    }
   ],
   "source": [
    "batch = next(iter(val_dataloader))\n",
    "\n",
    "for k,v in batch.items():\n",
    "    print(k, v.shape)\n",
    "    print()\n",
    "    \n",
    "print(len(train_dataloader))\n",
    "\n",
    "print(batch.keys())"
   ]
  },
  {
   "cell_type": "code",
   "execution_count": 69,
   "id": "ed4ff26b",
   "metadata": {},
   "outputs": [
    {
     "name": "stdout",
     "output_type": "stream",
     "text": [
      "input_ids torch.Size([16, 40])\n",
      "\n",
      "attention_mask torch.Size([16, 40])\n",
      "\n",
      "token_type_ids torch.Size([16, 40])\n",
      "\n",
      "pixel_values torch.Size([16, 3, 512, 608])\n",
      "\n",
      "pixel_mask torch.Size([16, 512, 608])\n",
      "\n",
      "labels torch.Size([16, 534])\n",
      "\n",
      "250\n",
      "dict_keys(['input_ids', 'attention_mask', 'token_type_ids', 'pixel_values', 'pixel_mask', 'labels'])\n"
     ]
    }
   ],
   "source": [
    "batch = next(iter(train_dataloader))\n",
    "\n",
    "for k,v in batch.items():\n",
    "    print(k, v.shape)\n",
    "    print()\n",
    "    \n",
    "print(len(train_dataloader))\n",
    "\n",
    "print(batch.keys())"
   ]
  },
  {
   "cell_type": "code",
   "execution_count": 70,
   "id": "82d3c876",
   "metadata": {},
   "outputs": [],
   "source": [
    "from torch.cuda.amp import autocast\n",
    "from torch.cuda.amp import GradScaler"
   ]
  },
  {
   "cell_type": "code",
   "execution_count": 71,
   "id": "3d2eb1a1",
   "metadata": {},
   "outputs": [],
   "source": [
    "scaler = GradScaler()"
   ]
  },
  {
   "cell_type": "code",
   "execution_count": null,
   "id": "99dcaabb",
   "metadata": {},
   "outputs": [
    {
     "name": "stderr",
     "output_type": "stream",
     "text": [
      "\r",
      "  0%|                                                        | 0/10 [00:00<?, ?it/s]"
     ]
    },
    {
     "name": "stdout",
     "output_type": "stream",
     "text": [
      "Epoch: 0\n"
     ]
    },
    {
     "name": "stderr",
     "output_type": "stream",
     "text": [
      "/home/aritra/miniconda3/envs/blip_vqa_base_env/lib/python3.8/site-packages/torch/nn/modules/conv.py:459: UserWarning: Applied workaround for CuDNN issue, install nvrtc.so (Triggered internally at /opt/conda/conda-bld/pytorch_1682343998658/work/aten/src/ATen/native/cudnn/Conv_v8.cpp:80.)\n",
      "  return F.conv2d(input, weight, bias, self.stride,\n"
     ]
    },
    {
     "name": "stdout",
     "output_type": "stream",
     "text": [
      "Loss: 384.9127924833448\n",
      "Loss: 384.7123657048986\n",
      "Loss: 383.8314306642866\n",
      "Loss: 383.8117750066649\n",
      "Loss: 383.3724328549586\n",
      "Loss: 384.47319861315157\n",
      "Loss: 382.850088332002\n",
      "Loss: 383.13182576342126\n",
      "Loss: 382.70121612834475\n",
      "Loss: 383.78301864645067\n",
      "Loss: 382.783138167114\n",
      "Loss: 385.0531997450937\n",
      "Loss: 383.2969068326052\n",
      "Loss: 382.9708897251026\n",
      "Loss: 382.8270281348382\n",
      "Loss: 383.9826548054485\n",
      "Loss: 384.8071171496993\n",
      "Loss: 382.93659928223747\n",
      "Loss: 383.73849565504804\n",
      "Loss: 384.6019128301816\n",
      "Loss: 383.2361667829873\n",
      "Loss: 382.76971165401153\n",
      "Loss: 384.43776674382536\n",
      "Loss: 384.64331320207486\n",
      "Loss: 383.8066467083993\n",
      "Loss: 383.9567477283996\n",
      "Loss: 382.53713249322044\n",
      "Loss: 384.5178484309762\n",
      "Loss: 366.78201362863103\n",
      "Loss: 365.6189987439037\n",
      "Loss: 366.3233272489151\n",
      "Loss: 367.3329236089868\n",
      "Loss: 351.18340381979857\n",
      "Loss: 349.7788082221519\n",
      "Loss: 350.19006533392934\n",
      "Loss: 349.1110274440915\n",
      "Loss: 350.57323632854866\n",
      "Loss: 350.2106046875305\n",
      "Loss: 350.74312553182034\n",
      "Loss: 350.07464952890734\n",
      "Loss: 334.9130338182026\n",
      "Loss: 332.5761308073971\n",
      "Loss: 333.4955481880635\n",
      "Loss: 332.4979802488007\n",
      "Loss: 317.7494409857292\n",
      "Loss: 318.9857945038606\n",
      "Loss: 317.52565259703505\n",
      "Loss: 317.22023668170925\n",
      "Loss: 302.7143876207973\n",
      "Loss: 304.62274928639084\n",
      "Loss: 303.14422970078635\n",
      "Loss: 306.4779682982064\n",
      "Loss: 303.9088788324313\n",
      "Loss: 302.80306680065587\n",
      "Loss: 302.8857258623439\n",
      "Loss: 302.609935746214\n",
      "Loss: 288.8011305636368\n",
      "Loss: 290.1303803672348\n",
      "Loss: 290.2757594802696\n",
      "Loss: 290.1627343124657\n",
      "Loss: 274.9456130446193\n",
      "Loss: 275.55713511226844\n",
      "Loss: 274.24833044098864\n",
      "Loss: 274.1425434350927\n",
      "Loss: 261.5149889551055\n",
      "Loss: 260.90564330604667\n",
      "Loss: 261.02100957122417\n",
      "Loss: 261.81755112297196\n",
      "Loss: 248.55054751969453\n",
      "Loss: 248.98775206365892\n",
      "Loss: 249.33565464227087\n",
      "Loss: 249.46410752149123\n",
      "Loss: 236.5952345666715\n",
      "Loss: 237.2882752817355\n",
      "Loss: 237.03236805429503\n",
      "Loss: 236.24418526530246\n",
      "Loss: 225.2666085460161\n",
      "Loss: 225.8414542965205\n",
      "Loss: 225.6368611034247\n",
      "Loss: 225.1898903287883\n",
      "Loss: 215.01385344734967\n",
      "Loss: 214.7872334758983\n",
      "Loss: 214.62112490847562\n",
      "Loss: 214.99645761151316\n",
      "Loss: 204.7105208779605\n",
      "Loss: 205.018859020271\n",
      "Loss: 205.11821810232914\n",
      "Loss: 204.81803689523738\n",
      "Loss: 196.04230774457002\n",
      "Loss: 196.02108517800502\n",
      "Loss: 196.03362694925016\n",
      "Loss: 196.49619535852457\n",
      "Loss: 187.02665999344458\n",
      "Loss: 186.56021078318116\n",
      "Loss: 187.2372874799084\n",
      "Loss: 187.01720468730008\n",
      "Loss: 178.2304982330234\n",
      "Loss: 178.90743210646903\n",
      "Loss: 179.07559070579754\n",
      "Loss: 178.4981005315872\n",
      "Loss: 171.4264425132328\n",
      "Loss: 171.330350151894\n",
      "Loss: 171.29590938813496\n",
      "Loss: 171.52026520233755\n",
      "Loss: 164.415421836843\n",
      "Loss: 164.00223046090073\n",
      "Loss: 163.78626463964852\n",
      "Loss: 164.38024118168877\n",
      "Loss: 157.78739253958216\n",
      "Loss: 157.55813126730493\n",
      "Loss: 158.379943573525\n",
      "Loss: 157.56528855098415\n",
      "Loss: 151.37136080254598\n",
      "Loss: 151.52225310726695\n",
      "Loss: 151.46431979225352\n",
      "Loss: 151.2479713115096\n",
      "Loss: 145.7640238928792\n",
      "Loss: 145.82018056572747\n",
      "Loss: 145.598947710499\n",
      "Loss: 145.6935061400952\n",
      "Loss: 140.27358612075392\n",
      "Loss: 140.44554914734556\n",
      "Loss: 140.47585117349894\n",
      "Loss: 140.3456054506687\n",
      "Loss: 135.15206302002628\n",
      "Loss: 135.6329890539117\n",
      "Loss: 135.0418441152687\n",
      "Loss: 135.00798109870914\n",
      "Loss: 129.9756313979812\n",
      "Loss: 130.1373527208218\n",
      "Loss: 129.90387515473986\n",
      "Loss: 130.1973874457042\n",
      "Loss: 125.33168808881607\n",
      "Loss: 125.46644352421532\n",
      "Loss: 125.2379473536138\n",
      "Loss: 125.42962366232578\n",
      "Loss: 120.9589908523344\n",
      "Loss: 121.12220947675819\n",
      "Loss: 121.23762129819997\n",
      "Loss: 121.32012896067641\n",
      "Loss: 116.91845056025109\n",
      "Loss: 117.1010089914628\n",
      "Loss: 117.14914542590309\n",
      "Loss: 117.18316672096732\n",
      "Loss: 113.05248085710502\n",
      "Loss: 112.95978925740344\n",
      "Loss: 113.0064245845661\n",
      "Loss: 113.13409450974721\n",
      "Loss: 109.23049748066514\n",
      "Loss: 109.34240575451446\n",
      "Loss: 109.18396246587017\n",
      "Loss: 109.29389509898645\n",
      "Loss: 106.17579973906462\n",
      "Loss: 106.12537785547987\n",
      "Loss: 106.17467407779718\n",
      "Loss: 106.00297951952746\n",
      "Loss: 102.54143795392885\n",
      "Loss: 102.47470646916474\n",
      "Loss: 102.62503187985365\n",
      "Loss: 102.85301597872565\n",
      "Loss: 99.64621150817797\n",
      "Loss: 99.00428451394251\n",
      "Loss: 99.30879021876648\n",
      "Loss: 99.01896696311142\n",
      "Loss: 96.35096375316466\n",
      "Loss: 96.08551660744799\n",
      "Loss: 96.32874972705191\n",
      "Loss: 96.04704143012171\n",
      "Loss: 93.37678639767466\n",
      "Loss: 93.32196582914098\n",
      "Loss: 93.32538471640734\n",
      "Loss: 93.31219592836135\n",
      "Loss: 90.41669507617773\n",
      "Loss: 90.31398437488619\n",
      "Loss: 90.46548094117512\n",
      "Loss: 90.43060199681572\n",
      "Loss: 87.78783900149247\n",
      "Loss: 87.71407904784485\n",
      "Loss: 87.87511784775545\n",
      "Loss: 87.93364541028994\n",
      "Loss: 85.295414067942\n",
      "Loss: 85.21842320440055\n",
      "Loss: 85.2576375455256\n",
      "Loss: 85.18710162822387\n",
      "Loss: 82.62619324701774\n",
      "Loss: 82.4400329494962\n",
      "Loss: 82.51679804267526\n",
      "Loss: 82.59989180592395\n",
      "Loss: 80.13126152022423\n",
      "Loss: 80.18632038021121\n",
      "Loss: 80.31032019882682\n",
      "Loss: 80.08211426046954\n",
      "Loss: 78.09555789966032\n",
      "Loss: 78.03782664385032\n",
      "Loss: 78.00489707964286\n",
      "Loss: 77.84227423212636\n",
      "Loss: 75.6539103505785\n",
      "Loss: 75.61855987061631\n",
      "Loss: 75.56710825695558\n",
      "Loss: 75.65597157737153\n",
      "Loss: 73.78693065673879\n",
      "Loss: 73.71407475056589\n",
      "Loss: 73.82395237441597\n",
      "Loss: 73.38487333297962\n",
      "Loss: 71.95470365879876\n",
      "Loss: 71.54773963403514\n",
      "Loss: 71.60217055280401\n",
      "Loss: 71.54472837230371\n",
      "Loss: 69.47333577630211\n",
      "Loss: 69.83775079054227\n",
      "Loss: 69.76171404579182\n",
      "Loss: 69.55663508492962\n",
      "Loss: 67.79013223245514\n",
      "Loss: 68.0898859991165\n",
      "Loss: 67.90879665832901\n",
      "Loss: 67.90541200554946\n",
      "Loss: 66.28023720064799\n",
      "Loss: 66.30472560573949\n",
      "Loss: 66.39330080234717\n",
      "Loss: 66.23383283201545\n",
      "Loss: 64.6047715034584\n",
      "Loss: 64.21602364611789\n",
      "Loss: 64.3592261409481\n",
      "Loss: 64.64383551204583\n",
      "Loss: 62.69515597111902\n",
      "Loss: 62.69988936781148\n",
      "Loss: 63.04783456948719\n",
      "Loss: 62.91361574710076\n",
      "Loss: 61.501792003223045\n",
      "Loss: 61.293283345852956\n",
      "Loss: 61.30023742426104\n",
      "Loss: 61.33150399256777\n",
      "Loss: 59.71903329449045\n",
      "Loss: 60.14673570052265\n",
      "Loss: 60.02298029183998\n",
      "Loss: 59.66887823598741\n",
      "Loss: 58.63344741656914\n",
      "Loss: 58.409335354864126\n",
      "Loss: 58.31933303532024\n",
      "Loss: 58.59865999297018\n",
      "Loss: 56.6374571773309\n",
      "Loss: 57.079097871955994\n",
      "Loss: 57.37277048932566\n",
      "Loss: 57.08979102881489\n",
      "Loss: 55.72213637733363\n",
      "Loss: 55.862279695240275\n",
      "Loss: 55.48867427916242\n",
      "Loss: 55.807605946296135\n",
      "Loss: 53.923915512487184\n"
     ]
    },
    {
     "name": "stderr",
     "output_type": "stream",
     "text": [
      "\r",
      " 10%|████▋                                          | 1/10 [02:29<22:22, 149.15s/it]"
     ]
    },
    {
     "name": "stdout",
     "output_type": "stream",
     "text": [
      "Loss: 54.19537370603003\n",
      "Epoch: 1\n",
      "Loss: 54.4510030612347\n",
      "Loss: 54.204459950731476\n",
      "Loss: 54.53843092993616\n",
      "Loss: 54.677012792686455\n",
      "Loss: 53.2089277371373\n",
      "Loss: 52.95210217286337\n",
      "Loss: 53.448204432512426\n",
      "Loss: 52.932560332250766\n",
      "Loss: 52.07260804547257\n",
      "Loss: 52.19365218283124\n",
      "Loss: 51.91410908352749\n",
      "Loss: 52.06855920734789\n",
      "Loss: 50.97123229043355\n",
      "Loss: 50.853783690850264\n",
      "Loss: 50.97131323354036\n",
      "Loss: 51.11653080083437\n",
      "Loss: 50.05702591681075\n",
      "Loss: 49.84819600061161\n",
      "Loss: 49.66694959153602\n",
      "Loss: 50.0813212413857\n",
      "Loss: 48.80790163217142\n",
      "Loss: 48.60019063586211\n",
      "Loss: 49.13056342114895\n",
      "Loss: 48.86700550666059\n",
      "Loss: 47.98906692522221\n",
      "Loss: 48.04882039911033\n",
      "Loss: 47.811534942141535\n",
      "Loss: 47.85608849210119\n",
      "Loss: 46.7934466319995\n",
      "Loss: 46.7222191814546\n",
      "Loss: 46.59015135631488\n",
      "Loss: 47.30691701233317\n",
      "Loss: 45.65052500345237\n",
      "Loss: 46.06613667795597\n",
      "Loss: 45.7427205710497\n",
      "Loss: 45.7500068001819\n",
      "Loss: 45.05772809239376\n",
      "Loss: 44.96162110071727\n",
      "Loss: 45.37139404480995\n",
      "Loss: 44.9118143648114\n",
      "Loss: 44.103213119256296\n",
      "Loss: 44.173777202351445\n",
      "Loss: 43.92055473648627\n",
      "Loss: 44.268176725108006\n",
      "Loss: 43.45234337729613\n",
      "Loss: 43.30570871582117\n",
      "Loss: 42.97508802243032\n",
      "Loss: 43.24167305081119\n",
      "Loss: 42.402022377677426\n",
      "Loss: 42.67866730807507\n",
      "Loss: 42.59013312536362\n",
      "Loss: 42.42532062174771\n",
      "Loss: 41.72294174388246\n",
      "Loss: 41.77341160936151\n",
      "Loss: 41.84956724783882\n",
      "Loss: 42.06110714699176\n",
      "Loss: 41.08567609538172\n",
      "Loss: 41.0029495089663\n",
      "Loss: 41.33951266658238\n",
      "Loss: 41.1067995947585\n",
      "Loss: 40.60665394157347\n",
      "Loss: 40.78017602803773\n",
      "Loss: 40.602875092116456\n",
      "Loss: 40.55813729655423\n",
      "Loss: 39.40380756534853\n",
      "Loss: 39.429532350402\n",
      "Loss: 39.313511367666344\n",
      "Loss: 39.576342839099006\n",
      "Loss: 39.04534832195255\n",
      "Loss: 38.78321164428435\n",
      "Loss: 39.34449320850311\n",
      "Loss: 38.92947265010237\n",
      "Loss: 38.2218859173314\n",
      "Loss: 38.293290855801125\n",
      "Loss: 38.19427480693321\n",
      "Loss: 38.58766248109265\n",
      "Loss: 38.08273911085239\n",
      "Loss: 37.66390855297096\n",
      "Loss: 37.82126446686341\n",
      "Loss: 38.23520804379912\n",
      "Loss: 37.18971453747928\n",
      "Loss: 36.953327059562596\n",
      "Loss: 36.86167941328934\n",
      "Loss: 37.48670043180353\n",
      "Loss: 36.7533417825761\n",
      "Loss: 36.67825291105007\n",
      "Loss: 36.43802286685563\n",
      "Loss: 36.78267027376596\n",
      "Loss: 36.16586847150236\n",
      "Loss: 36.02258511284445\n",
      "Loss: 35.985203200379175\n",
      "Loss: 36.05228875846082\n",
      "Loss: 35.3057620265081\n",
      "Loss: 35.770329249955374\n",
      "Loss: 35.38242361423921\n",
      "Loss: 34.791657984926715\n",
      "Loss: 34.7444474940132\n",
      "Loss: 35.26561857101203\n",
      "Loss: 34.89616036466633\n",
      "Loss: 35.054266156677876\n",
      "Loss: 34.2745725274721\n",
      "Loss: 34.98317126713372\n",
      "Loss: 34.31490225171298\n",
      "Loss: 34.65234485304499\n",
      "Loss: 34.184102986055294\n",
      "Loss: 34.16207999826226\n",
      "Loss: 33.67333683279357\n",
      "Loss: 34.147525640563046\n",
      "Loss: 33.83517309508068\n",
      "Loss: 33.265989779503975\n",
      "Loss: 33.32418981855179\n",
      "Loss: 33.584082209164706\n",
      "Loss: 33.0948092226657\n",
      "Loss: 33.25925462292179\n",
      "Loss: 33.24404521607503\n",
      "Loss: 33.33568428329613\n",
      "Loss: 32.71878627061918\n",
      "Loss: 32.73011109420085\n",
      "Loss: 32.68345869232542\n",
      "Loss: 32.42809707150296\n",
      "Loss: 32.34531259778136\n",
      "Loss: 32.11489150513074\n",
      "Loss: 31.885928215040934\n",
      "Loss: 32.054705652630766\n",
      "Loss: 31.63094324594293\n",
      "Loss: 31.8859964946242\n",
      "Loss: 31.7514554536398\n",
      "Loss: 31.57357641648\n",
      "Loss: 31.216307538997345\n",
      "Loss: 31.365148035449167\n",
      "Loss: 31.27979597133868\n",
      "Loss: 31.152734157791706\n",
      "Loss: 30.77587764076539\n",
      "Loss: 30.988247154559446\n",
      "Loss: 30.94416569288667\n",
      "Loss: 30.940683039185064\n",
      "Loss: 30.346772316403968\n",
      "Loss: 30.660100914739214\n",
      "Loss: 30.120191138361513\n",
      "Loss: 30.525623912290797\n",
      "Loss: 30.287697072653\n",
      "Loss: 30.553071377011342\n",
      "Loss: 29.917408957813404\n",
      "Loss: 30.081476937755063\n",
      "Loss: 29.60135616479275\n",
      "Loss: 30.006337910956283\n",
      "Loss: 29.730665128530177\n",
      "Loss: 30.36124201005194\n",
      "Loss: 29.475981807128917\n",
      "Loss: 29.297852535467722\n",
      "Loss: 29.527398749941653\n",
      "Loss: 29.34019189082322\n",
      "Loss: 29.010226306512397\n",
      "Loss: 29.164646016673622\n",
      "Loss: 29.095802717848628\n",
      "Loss: 28.93459222295866\n",
      "Loss: 28.714794729843874\n",
      "Loss: 28.944448115582844\n",
      "Loss: 28.25533669382434\n",
      "Loss: 29.040514543581775\n",
      "Loss: 28.630195184618092\n",
      "Loss: 27.962493326309794\n",
      "Loss: 28.351414551169476\n",
      "Loss: 28.457422321552855\n",
      "Loss: 27.939441407105694\n",
      "Loss: 28.54351410518825\n",
      "Loss: 28.040637665376956\n",
      "Loss: 28.098790706860633\n",
      "Loss: 27.657919749547485\n",
      "Loss: 27.813013095104143\n",
      "Loss: 27.550587520281532\n",
      "Loss: 27.76898600600189\n",
      "Loss: 27.95452496315047\n",
      "Loss: 27.429145485460428\n",
      "Loss: 27.83812503212682\n",
      "Loss: 28.107600901340568\n",
      "Loss: 27.633304178914567\n",
      "Loss: 27.15112637383737\n",
      "Loss: 27.363853385056974\n",
      "Loss: 26.60377120318391\n",
      "Loss: 26.93273071629185\n",
      "Loss: 26.387677360313575\n",
      "Loss: 26.705351875693918\n",
      "Loss: 26.70198372265141\n",
      "Loss: 26.702432936936635\n",
      "Loss: 26.365097816535005\n",
      "Loss: 26.334180928170802\n",
      "Loss: 26.59976572088028\n",
      "Loss: 26.53773163127749\n",
      "Loss: 26.565769956511232\n",
      "Loss: 26.30761104310472\n",
      "Loss: 26.42272950579454\n",
      "Loss: 26.16819927351066\n",
      "Loss: 26.435084312577466\n",
      "Loss: 25.77672233784318\n",
      "Loss: 26.242340135355377\n",
      "Loss: 26.124343705718665\n",
      "Loss: 25.562583046002516\n",
      "Loss: 25.61074342039928\n",
      "Loss: 26.03705065864805\n",
      "Loss: 25.356200893590483\n",
      "Loss: 25.402856591647748\n",
      "Loss: 25.262531945235622\n",
      "Loss: 26.122301131277993\n",
      "Loss: 25.374807676131454\n",
      "Loss: 25.32685686951025\n",
      "Loss: 25.604197143562924\n",
      "Loss: 24.99263136683163\n",
      "Loss: 25.428010936851216\n",
      "Loss: 24.88934881527807\n",
      "Loss: 24.853669876238484\n",
      "Loss: 25.414978903121874\n",
      "Loss: 24.93442919749843\n",
      "Loss: 25.002453411780266\n",
      "Loss: 24.73930213076985\n",
      "Loss: 24.992704538497502\n",
      "Loss: 24.45893095053935\n",
      "Loss: 24.87169071027553\n",
      "Loss: 24.654770747045198\n",
      "Loss: 24.59447795085223\n",
      "Loss: 24.097211734280027\n",
      "Loss: 24.232964700460908\n",
      "Loss: 24.670796734498694\n",
      "Loss: 24.35367491890272\n",
      "Loss: 24.51628924126751\n",
      "Loss: 24.163930238870375\n",
      "Loss: 24.218432006023413\n",
      "Loss: 24.637996670348116\n",
      "Loss: 23.33761749186134\n",
      "Loss: 24.137327180306013\n",
      "Loss: 23.962329451561324\n",
      "Loss: 24.040481031915\n",
      "Loss: 23.6434545425428\n",
      "Loss: 23.96437744078877\n",
      "Loss: 23.63124418808141\n",
      "Loss: 23.613620520671113\n",
      "Loss: 23.81764682169355\n",
      "Loss: 23.794210992737376\n",
      "Loss: 23.66417342339383\n",
      "Loss: 23.548595766250262\n",
      "Loss: 23.060853677806442\n",
      "Loss: 23.813721812527632\n",
      "Loss: 23.7690046160359\n",
      "Loss: 23.19571960104702\n",
      "Loss: 23.352096204106584\n",
      "Loss: 22.72454413867111\n",
      "Loss: 22.924577173646203\n",
      "Loss: 23.177089252494007\n",
      "Loss: 22.478868332134216\n"
     ]
    },
    {
     "name": "stderr",
     "output_type": "stream",
     "text": [
      "\r",
      " 20%|█████████▍                                     | 2/10 [04:56<19:43, 147.98s/it]"
     ]
    },
    {
     "name": "stdout",
     "output_type": "stream",
     "text": [
      "Loss: 22.897118004954752\n",
      "Epoch: 2\n",
      "Loss: 23.238836350253436\n",
      "Loss: 22.808072470792062\n",
      "Loss: 23.113624572679853\n",
      "Loss: 22.839219288303635\n",
      "Loss: 22.667534726985615\n",
      "Loss: 22.98479568568628\n",
      "Loss: 23.047078397478458\n",
      "Loss: 22.86632523068984\n",
      "Loss: 22.269471742780503\n",
      "Loss: 22.311237033343186\n",
      "Loss: 22.938474350825828\n",
      "Loss: 22.35877233689648\n",
      "Loss: 22.177226424860745\n",
      "Loss: 22.31159975383988\n",
      "Loss: 22.82857042873415\n",
      "Loss: 22.443123590437832\n",
      "Loss: 22.324429526792365\n",
      "Loss: 22.206341397505653\n",
      "Loss: 22.24232376935736\n",
      "Loss: 22.29854331709208\n",
      "Loss: 22.34307754016907\n",
      "Loss: 22.32580078570221\n",
      "Loss: 21.90247862555462\n",
      "Loss: 21.97489310114514\n",
      "Loss: 21.752016877040347\n",
      "Loss: 21.494756032367395\n",
      "Loss: 22.044936491877696\n",
      "Loss: 22.17742882479174\n",
      "Loss: 21.88647621074782\n",
      "Loss: 22.15301239781887\n",
      "Loss: 21.958839755217788\n",
      "Loss: 21.678185949181803\n",
      "Loss: 21.80812585943955\n",
      "Loss: 22.129500205360188\n",
      "Loss: 21.685675185021505\n",
      "Loss: 21.183080332104822\n",
      "Loss: 21.59226326388665\n",
      "Loss: 21.549319754921004\n",
      "Loss: 21.30957519220695\n",
      "Loss: 21.45159202527224\n",
      "Loss: 21.043454579042113\n",
      "Loss: 21.633758044474767\n",
      "Loss: 21.874858505618356\n",
      "Loss: 21.815295255900352\n",
      "Loss: 21.363800312704264\n",
      "Loss: 20.81873460717671\n",
      "Loss: 21.40077559242671\n",
      "Loss: 21.247298776777033\n",
      "Loss: 20.545576306198733\n",
      "Loss: 20.96627883813211\n",
      "Loss: 21.035651283709\n",
      "Loss: 21.0048191745516\n",
      "Loss: 21.244257486058675\n",
      "Loss: 21.04716114818502\n",
      "Loss: 20.85737243050431\n",
      "Loss: 20.43235945273019\n",
      "Loss: 20.471893751706347\n",
      "Loss: 20.77607470168992\n",
      "Loss: 20.812181864228204\n",
      "Loss: 20.899462528335626\n",
      "Loss: 20.44032129742572\n",
      "Loss: 19.83332992952633\n",
      "Loss: 20.353856796013613\n",
      "Loss: 20.058014856402018\n",
      "Loss: 20.282598186324652\n",
      "Loss: 20.660542837151077\n",
      "Loss: 20.083096044548174\n",
      "Loss: 20.129658968713322\n",
      "Loss: 20.830201589814767\n",
      "Loss: 20.20277001072472\n",
      "Loss: 20.614280096722617\n",
      "Loss: 20.13350128954989\n",
      "Loss: 20.64601023382777\n",
      "Loss: 20.118275832658107\n",
      "Loss: 20.71022582308428\n",
      "Loss: 20.434791721348\n",
      "Loss: 20.35759305112145\n",
      "Loss: 20.136782435547502\n",
      "Loss: 19.796827590754482\n",
      "Loss: 20.433978328734803\n",
      "Loss: 19.682295370052415\n",
      "Loss: 19.207444509241775\n",
      "Loss: 20.21984500507947\n",
      "Loss: 19.859763127811316\n",
      "Loss: 20.25055342770137\n",
      "Loss: 19.715910084847856\n",
      "Loss: 19.39459089563478\n",
      "Loss: 20.059576809290927\n",
      "Loss: 19.404292892888694\n",
      "Loss: 19.3532576336986\n",
      "Loss: 19.547573646425548\n",
      "Loss: 19.450389330189992\n",
      "Loss: 19.48460357161015\n",
      "Loss: 19.346126864646095\n",
      "Loss: 19.529730380349186\n",
      "Loss: 19.75955351511963\n",
      "Loss: 19.687678679340223\n",
      "Loss: 19.346337296555408\n",
      "Loss: 19.402678045504977\n",
      "Loss: 19.5412548729149\n",
      "Loss: 19.968583986980597\n",
      "Loss: 19.205065697810795\n",
      "Loss: 19.430241951622442\n",
      "Loss: 18.737786434593392\n",
      "Loss: 19.38540697115291\n",
      "Loss: 19.56770058952268\n",
      "Loss: 19.42442866717523\n",
      "Loss: 19.734585593755334\n",
      "Loss: 18.53902505017229\n",
      "Loss: 18.67271945198832\n",
      "Loss: 18.96044512367643\n",
      "Loss: 18.511028835453597\n",
      "Loss: 18.76784236027719\n",
      "Loss: 18.972194837949914\n",
      "Loss: 18.93126855926447\n",
      "Loss: 18.970082939214887\n",
      "Loss: 19.137669719872576\n",
      "Loss: 18.66960286297835\n",
      "Loss: 18.80149281888447\n",
      "Loss: 19.040335730340153\n",
      "Loss: 18.828019510382894\n",
      "Loss: 19.026209695653847\n",
      "Loss: 18.933899607529384\n",
      "Loss: 18.54988084418254\n",
      "Loss: 19.04415412364603\n",
      "Loss: 18.51637328699498\n",
      "Loss: 18.529241335977197\n",
      "Loss: 18.455442153461394\n",
      "Loss: 18.22147224494316\n",
      "Loss: 18.593240579581256\n",
      "Loss: 18.550365318845756\n",
      "Loss: 18.709536985204025\n",
      "Loss: 18.527296656898397\n",
      "Loss: 17.9536295383595\n",
      "Loss: 18.354991648520762\n",
      "Loss: 18.70142118915122\n",
      "Loss: 18.742161092910727\n",
      "Loss: 18.443256211399426\n",
      "Loss: 19.093836126092945\n",
      "Loss: 17.981829881697266\n",
      "Loss: 18.060070226793627\n",
      "Loss: 18.24494648730613\n",
      "Loss: 18.18106160696073\n",
      "Loss: 18.651209092941098\n",
      "Loss: 18.539825253294918\n",
      "Loss: 18.299178239114262\n",
      "Loss: 18.29054030129919\n",
      "Loss: 18.253793176322652\n",
      "Loss: 18.907461375968417\n"
     ]
    }
   ],
   "source": [
    "optimizer = torch.optim.AdamW(model.parameters(), lr=5e-5)\n",
    "accumulate_step = 4\n",
    "\n",
    "model.train()\n",
    "\n",
    "for epoch in tqdm(range(10)):  \n",
    "\n",
    "    print(f\"Epoch: {epoch}\")\n",
    "\n",
    "    for idx, batch in enumerate(train_dataloader):\n",
    "\n",
    "        batch = {k:v.to(device) for k,v in batch.items()}\n",
    "\n",
    "        optimizer.zero_grad()\n",
    "        \n",
    "        # Implementing Mixed Precision Training\n",
    "        \n",
    "        with torch.autocast(device_type='cuda', dtype=torch.float16):\n",
    "            outputs = model(**batch)\n",
    "            loss = outputs.loss\n",
    "        \n",
    "        print(\"Loss:\", loss.item())\n",
    "\n",
    "        # Gradient Accumulation\n",
    "        \n",
    "        if ( (idx+1) % accumulate_step ==0 ):\n",
    "            \n",
    "            scaler.scale(loss).backward()\n",
    "            scaler.step(optimizer)\n",
    "            scaler.update()"
   ]
  },
  {
   "cell_type": "code",
   "execution_count": null,
   "id": "a3bb01e6",
   "metadata": {},
   "outputs": [],
   "source": []
  },
  {
   "cell_type": "code",
   "execution_count": null,
   "id": "5d3dba51",
   "metadata": {},
   "outputs": [],
   "source": [
    "model.eval()"
   ]
  },
  {
   "cell_type": "code",
   "execution_count": null,
   "id": "0ddf8b23",
   "metadata": {},
   "outputs": [],
   "source": [
    "index = 11"
   ]
  },
  {
   "cell_type": "code",
   "execution_count": null,
   "id": "10b50d59",
   "metadata": {},
   "outputs": [],
   "source": [
    "example = val_dataset_object[index]\n",
    "print(example.keys())"
   ]
  },
  {
   "cell_type": "code",
   "execution_count": null,
   "id": "41bca1d5",
   "metadata": {},
   "outputs": [],
   "source": [
    "list1 = example['labels'].tolist()\n",
    "storeIndex = []\n",
    "for i in range(len(list1)):\n",
    "    if list1[i] != 0:\n",
    "        storeIndex.append(i)\n",
    "    "
   ]
  },
  {
   "cell_type": "code",
   "execution_count": null,
   "id": "ea7eebf3",
   "metadata": {},
   "outputs": [],
   "source": [
    "print(storeIndex)\n",
    "\n",
    "for num in storeIndex:\n",
    "    print(reverse_mapping[num])"
   ]
  },
  {
   "cell_type": "code",
   "execution_count": null,
   "id": "8e356784",
   "metadata": {},
   "outputs": [],
   "source": [
    "processor.decode(example['input_ids'])"
   ]
  },
  {
   "cell_type": "code",
   "execution_count": null,
   "id": "fbdedbc3",
   "metadata": {},
   "outputs": [],
   "source": [
    "# add batch dimension + move to GPU\n",
    "example = {k: v.unsqueeze(0).to(device) for k,v in example.items()}\n",
    "\n",
    "# forward pass\n",
    "outputs = model(**example)"
   ]
  },
  {
   "cell_type": "code",
   "execution_count": null,
   "id": "be4e4328",
   "metadata": {},
   "outputs": [],
   "source": [
    "logits = outputs.logits\n",
    "predicted_classes = torch.sigmoid(logits)\n",
    "probs, classes = torch.topk(predicted_classes, 4)"
   ]
  },
  {
   "cell_type": "code",
   "execution_count": null,
   "id": "7d8ce9b7",
   "metadata": {},
   "outputs": [],
   "source": [
    "for prob, class_idx in zip(probs.squeeze().tolist(), classes.squeeze().tolist()):\n",
    "  print(prob, model.config.id2label[class_idx])"
   ]
  },
  {
   "cell_type": "code",
   "execution_count": null,
   "id": "1c077dc1",
   "metadata": {},
   "outputs": [],
   "source": [
    "questionList_val[index]"
   ]
  },
  {
   "cell_type": "code",
   "execution_count": null,
   "id": "60a038c1",
   "metadata": {},
   "outputs": [],
   "source": [
    "answerList_val[index]"
   ]
  },
  {
   "cell_type": "code",
   "execution_count": null,
   "id": "9eb5bc9e",
   "metadata": {},
   "outputs": [],
   "source": [
    "i = Image.open(imgPathList_val[index])\n",
    "i.thumbnail((300,300))\n",
    "i"
   ]
  },
  {
   "cell_type": "code",
   "execution_count": null,
   "id": "84a1efaf",
   "metadata": {},
   "outputs": [],
   "source": [
    "# Performance metrics Code\n",
    "\n",
    "def calculateAccuracy():\n",
    "\n",
    "    classificationResult = []\n",
    "\n",
    "    model.eval()\n",
    "    matchScore, loopCounter = 0,0\n",
    "\n",
    "    for index in range(0,200):\n",
    "        \n",
    "        loopCounter += 1\n",
    "        \n",
    "        example = val_dataset_object[index]\n",
    "        example = {k: v.unsqueeze(0).to(device) for k,v in example.items()}\n",
    "        outputs = model(**example)\n",
    "\n",
    "        logits = outputs.logits\n",
    "        predicted_classes = torch.sigmoid(logits)\n",
    "        probs, classes = torch.topk(predicted_classes, 1)\n",
    "\n",
    "        print(f'T: {answerList_val[index]} <-> P: {model.config.id2label[classes.squeeze().item()]}' )\n",
    "\n",
    "        # accuracy score\n",
    "        \n",
    "        if answerList_val[index] == model.config.id2label[classes.squeeze().item()]:\n",
    "            matchScore += 1\n",
    "        \n",
    "        classificationResult.append( model.config.id2label[classes.squeeze().item()] )\n",
    "        \n",
    "    print(matchScore, loopCounter)\n",
    "    return ((matchScore/loopCounter)*100)"
   ]
  },
  {
   "cell_type": "code",
   "execution_count": null,
   "id": "81b339fb",
   "metadata": {},
   "outputs": [],
   "source": [
    "calculateAccuracy()"
   ]
  },
  {
   "cell_type": "code",
   "execution_count": null,
   "id": "b597f6e2",
   "metadata": {},
   "outputs": [],
   "source": []
  },
  {
   "cell_type": "code",
   "execution_count": null,
   "id": "7c61a978",
   "metadata": {},
   "outputs": [],
   "source": []
  }
 ],
 "metadata": {
  "kernelspec": {
   "display_name": "Python 3 (ipykernel)",
   "language": "python",
   "name": "python3"
  },
  "language_info": {
   "codemirror_mode": {
    "name": "ipython",
    "version": 3
   },
   "file_extension": ".py",
   "mimetype": "text/x-python",
   "name": "python",
   "nbconvert_exporter": "python",
   "pygments_lexer": "ipython3",
   "version": "3.8.17"
  }
 },
 "nbformat": 4,
 "nbformat_minor": 5
}
