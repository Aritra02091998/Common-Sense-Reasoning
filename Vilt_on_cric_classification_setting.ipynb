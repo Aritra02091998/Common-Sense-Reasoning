{
 "cells": [
  {
   "cell_type": "markdown",
   "id": "b9b35b92",
   "metadata": {},
   "source": [
    "###### -----------------START--------------------------------------------"
   ]
  },
  {
   "cell_type": "code",
   "execution_count": 1,
   "id": "14e4e725",
   "metadata": {},
   "outputs": [],
   "source": [
    "import json"
   ]
  },
  {
   "cell_type": "code",
   "execution_count": 2,
   "id": "7b320d27",
   "metadata": {},
   "outputs": [],
   "source": [
    "import os"
   ]
  },
  {
   "cell_type": "code",
   "execution_count": 3,
   "id": "d1bf8e79",
   "metadata": {},
   "outputs": [],
   "source": [
    "from tqdm import tqdm"
   ]
  },
  {
   "cell_type": "code",
   "execution_count": 4,
   "id": "52c5e3f8",
   "metadata": {},
   "outputs": [],
   "source": [
    "train_file_path = '/home/aritra/cric/train_questions.json'\n",
    "val_file_path = '/home/aritra/cric/val_questions.json'"
   ]
  },
  {
   "cell_type": "code",
   "execution_count": 5,
   "id": "236c7fc2",
   "metadata": {},
   "outputs": [],
   "source": [
    "# Training Set\n",
    "\n",
    "with open(train_file_path, \"r\") as file:\n",
    "     train_json = json.load(file)"
   ]
  },
  {
   "cell_type": "code",
   "execution_count": 6,
   "id": "ee2e0acf",
   "metadata": {},
   "outputs": [],
   "source": [
    "# Validation Set\n",
    "\n",
    "with open(val_file_path, \"r\") as file:\n",
    "     val_json = json.load(file)"
   ]
  },
  {
   "cell_type": "code",
   "execution_count": 7,
   "id": "48972cda",
   "metadata": {},
   "outputs": [
    {
     "data": {
      "text/plain": [
       "365235"
      ]
     },
     "execution_count": 7,
     "metadata": {},
     "output_type": "execute_result"
    }
   ],
   "source": [
    "len(train_json)"
   ]
  },
  {
   "cell_type": "code",
   "execution_count": 8,
   "id": "d15c9341",
   "metadata": {},
   "outputs": [
    {
     "data": {
      "text/plain": [
       "43112"
      ]
     },
     "execution_count": 8,
     "metadata": {},
     "output_type": "execute_result"
    }
   ],
   "source": [
    "len(val_json)"
   ]
  },
  {
   "cell_type": "code",
   "execution_count": 9,
   "id": "aa906f21",
   "metadata": {},
   "outputs": [],
   "source": [
    "# train_json"
   ]
  },
  {
   "cell_type": "code",
   "execution_count": 10,
   "id": "678f9d70",
   "metadata": {},
   "outputs": [],
   "source": [
    "# val_json"
   ]
  },
  {
   "cell_type": "markdown",
   "id": "8190c199",
   "metadata": {},
   "source": [
    "##### Processing of Training Set"
   ]
  },
  {
   "cell_type": "code",
   "execution_count": 11,
   "id": "4ae6c0eb",
   "metadata": {},
   "outputs": [],
   "source": [
    "questionList = []\n",
    "answerList = []\n",
    "imgList = []"
   ]
  },
  {
   "cell_type": "code",
   "execution_count": 12,
   "id": "6cdf3bb0",
   "metadata": {},
   "outputs": [
    {
     "data": {
      "text/plain": [
       "1005"
      ]
     },
     "execution_count": 12,
     "metadata": {},
     "output_type": "execute_result"
    }
   ],
   "source": [
    "train_json[2]['image_id']"
   ]
  },
  {
   "cell_type": "markdown",
   "id": "b0248032",
   "metadata": {},
   "source": [
    "#### iter 1: from 0 , 149000 -> error1.txt -> 159\n",
    "#### iter 2: from 150000 , 240000 -> error2.txt -> 34\n",
    "#### iter 3: from 240000 , 365235 ->error3.txt -> 121"
   ]
  },
  {
   "cell_type": "code",
   "execution_count": 13,
   "id": "14b63642",
   "metadata": {},
   "outputs": [],
   "source": [
    "# verifying\n",
    "indexToExclude = []\n",
    "\n",
    "with open('error1.txt', 'r') as file:\n",
    "    for line in file:\n",
    "        number = int(line.strip())\n",
    "        indexToExclude.append(number)\n",
    "        \n",
    "with open('error2.txt', 'r') as file:\n",
    "    for line in file:\n",
    "        number = int(line.strip())\n",
    "        indexToExclude.append(number)\n",
    "        \n",
    "with open('error3.txt', 'r') as file:\n",
    "    for line in file:\n",
    "        number = int(line.strip())\n",
    "        indexToExclude.append(number)"
   ]
  },
  {
   "cell_type": "code",
   "execution_count": 14,
   "id": "9d4ed441",
   "metadata": {},
   "outputs": [
    {
     "data": {
      "text/plain": [
       "314"
      ]
     },
     "execution_count": 14,
     "metadata": {},
     "output_type": "execute_result"
    }
   ],
   "source": [
    "len(indexToExclude)"
   ]
  },
  {
   "cell_type": "code",
   "execution_count": 15,
   "id": "0c8a79d0",
   "metadata": {},
   "outputs": [
    {
     "name": "stderr",
     "output_type": "stream",
     "text": [
      "100%|███████████████████████████████████| 365235/365235 [00:01<00:00, 333509.01it/s]\n"
     ]
    }
   ],
   "source": [
    "for i in tqdm(range(len(train_json))):\n",
    "    \n",
    "    if i in indexToExclude:\n",
    "        continue\n",
    "        \n",
    "    pointer = train_json[i]\n",
    "    \n",
    "    questionList.append(pointer['question'])\n",
    "    answerList.append(pointer['answer'])\n",
    "    imgList.append(pointer['image_id'])"
   ]
  },
  {
   "cell_type": "code",
   "execution_count": 16,
   "id": "e5bc92f9",
   "metadata": {},
   "outputs": [
    {
     "data": {
      "text/plain": [
       "(364921, 364921, 364921)"
      ]
     },
     "execution_count": 16,
     "metadata": {},
     "output_type": "execute_result"
    }
   ],
   "source": [
    "len(questionList), len(answerList), len(imgList)"
   ]
  },
  {
   "cell_type": "code",
   "execution_count": 17,
   "id": "8cf2a90a",
   "metadata": {},
   "outputs": [
    {
     "data": {
      "text/plain": [
       "1442"
      ]
     },
     "execution_count": 17,
     "metadata": {},
     "output_type": "execute_result"
    }
   ],
   "source": [
    "len(list(set(answerList)))"
   ]
  },
  {
   "cell_type": "code",
   "execution_count": 18,
   "id": "b38e9e35",
   "metadata": {},
   "outputs": [],
   "source": [
    "# creating word to number mapping\n",
    "\n",
    "mapping = {}\n",
    "counter = 0\n",
    "\n",
    "uniqueAnsList = list(set(answerList))\n",
    "\n",
    "for word in uniqueAnsList:\n",
    "    \n",
    "    if word not in mapping:\n",
    "        \n",
    "        mapping[word] = counter\n",
    "        counter += 1"
   ]
  },
  {
   "cell_type": "code",
   "execution_count": 19,
   "id": "143b6127",
   "metadata": {},
   "outputs": [
    {
     "data": {
      "text/plain": [
       "1441"
      ]
     },
     "execution_count": 19,
     "metadata": {},
     "output_type": "execute_result"
    }
   ],
   "source": [
    "max(mapping.values())"
   ]
  },
  {
   "cell_type": "code",
   "execution_count": 20,
   "id": "b4811265",
   "metadata": {},
   "outputs": [],
   "source": [
    "# creating number to word mapping\n",
    "\n",
    "reverse_mapping = dict([(value, key) for key, value in mapping.items()])"
   ]
  },
  {
   "cell_type": "markdown",
   "id": "c6e8749a",
   "metadata": {},
   "source": [
    "####    Processing of Training Set"
   ]
  },
  {
   "cell_type": "code",
   "execution_count": 21,
   "id": "abb6f169",
   "metadata": {},
   "outputs": [
    {
     "name": "stderr",
     "output_type": "stream",
     "text": [
      "100%|███████████████████████████████████| 364921/364921 [00:01<00:00, 283306.27it/s]\n"
     ]
    }
   ],
   "source": [
    "# generating multiple possible answers\n",
    "# palabels means possible answers\n",
    "\n",
    "import random\n",
    "\n",
    "palabels = []\n",
    "temp = []\n",
    "\n",
    "for i in tqdm(range(len(answerList))):\n",
    "    \n",
    "    temp.append(answerList[i])\n",
    "    temp.append(uniqueAnsList[random.randint(0,1441)])\n",
    "    temp.append(uniqueAnsList[random.randint(0,1441)])\n",
    "    temp.append(uniqueAnsList[random.randint(0,1441)])\n",
    "    \n",
    "    random.shuffle(temp)\n",
    "    palabels.append(temp)\n",
    "    \n",
    "    temp = []\n",
    "    "
   ]
  },
  {
   "cell_type": "code",
   "execution_count": 22,
   "id": "874dd937",
   "metadata": {},
   "outputs": [
    {
     "data": {
      "text/plain": [
       "[['beach chair', 'blueberry', 'bush', 'no'],\n",
       " ['tennis shoe', 'meadow', 'no', 'orange'],\n",
       " ['cabbage', 'toiletries', 'no', 'yellow'],\n",
       " ['wok', 'swan', 'small', 'can'],\n",
       " ['student', 'computer desk', 'picture', 'street']]"
      ]
     },
     "execution_count": 22,
     "metadata": {},
     "output_type": "execute_result"
    }
   ],
   "source": [
    "palabels[0:5]"
   ]
  },
  {
   "cell_type": "code",
   "execution_count": 23,
   "id": "1b7af419",
   "metadata": {},
   "outputs": [
    {
     "name": "stderr",
     "output_type": "stream",
     "text": [
      "100%|███████████████████████████████████| 364921/364921 [00:02<00:00, 126489.03it/s]\n"
     ]
    }
   ],
   "source": [
    "# creating scores of occurence list\n",
    "\n",
    "scores = []\n",
    "stemp = []\n",
    "\n",
    "for i in tqdm(range(len(answerList))):\n",
    "    correctAnswer = answerList[i]\n",
    "    \n",
    "    for j in range(4):\n",
    "        \n",
    "        if palabels[i][j] == correctAnswer:\n",
    "            \n",
    "            stemp.append(1.0)\n",
    "        \n",
    "        else:\n",
    "            \n",
    "            stemp.append(0.33333333333)\n",
    "    \n",
    "    scores.append(stemp)\n",
    "    stemp = []\n",
    "    "
   ]
  },
  {
   "cell_type": "code",
   "execution_count": 24,
   "id": "ef118b46",
   "metadata": {},
   "outputs": [
    {
     "data": {
      "text/plain": [
       "[[0.33333333333, 0.33333333333, 0.33333333333, 1.0],\n",
       " [0.33333333333, 0.33333333333, 1.0, 0.33333333333],\n",
       " [0.33333333333, 0.33333333333, 1.0, 0.33333333333],\n",
       " [0.33333333333, 0.33333333333, 1.0, 0.33333333333],\n",
       " [0.33333333333, 0.33333333333, 1.0, 0.33333333333]]"
      ]
     },
     "execution_count": 24,
     "metadata": {},
     "output_type": "execute_result"
    }
   ],
   "source": [
    "scores[0:5]"
   ]
  },
  {
   "cell_type": "code",
   "execution_count": 25,
   "id": "2b164942",
   "metadata": {},
   "outputs": [],
   "source": [
    "# converting the palabels to numbers through mapping\n",
    "\n",
    "for i in range(len(palabels)):\n",
    "    \n",
    "    for j in range(4):\n",
    "        \n",
    "        palabels[i][j] = mapping[ palabels[i][j] ]\n"
   ]
  },
  {
   "cell_type": "code",
   "execution_count": 26,
   "id": "2a2b688f",
   "metadata": {},
   "outputs": [
    {
     "data": {
      "text/plain": [
       "[[231, 348, 1315, 423],\n",
       " [450, 1404, 423, 532],\n",
       " [504, 1116, 423, 869],\n",
       " [460, 472, 1252, 1348],\n",
       " [914, 144, 1373, 1295]]"
      ]
     },
     "execution_count": 26,
     "metadata": {},
     "output_type": "execute_result"
    }
   ],
   "source": [
    "palabels[0:5]"
   ]
  },
  {
   "cell_type": "code",
   "execution_count": 27,
   "id": "65951dbd",
   "metadata": {},
   "outputs": [
    {
     "name": "stderr",
     "output_type": "stream",
     "text": [
      "100%|███████████████████████████████████| 364921/364921 [00:00<00:00, 779002.13it/s]\n"
     ]
    }
   ],
   "source": [
    "imgPathList = []\n",
    "filepath = '/home/aritra/cric/images/img/'\n",
    "\n",
    "for i in tqdm(range(len(imgList))):\n",
    "    \n",
    "    imgName = str(imgList[i]) + '.jpg'\n",
    "    concatedPath = os.path.join(filepath,imgName)\n",
    "    \n",
    "    imgPathList.append(concatedPath)"
   ]
  },
  {
   "cell_type": "code",
   "execution_count": 28,
   "id": "b75bbac1",
   "metadata": {},
   "outputs": [],
   "source": [
    "from datasets import load_dataset\n",
    "from datasets import Dataset\n",
    "import datasets\n",
    "from PIL import Image\n",
    "import torch"
   ]
  },
  {
   "cell_type": "code",
   "execution_count": 29,
   "id": "0afea404",
   "metadata": {},
   "outputs": [
    {
     "data": {
      "text/plain": [
       "['/home/aritra/cric/images/img/1000.jpg',\n",
       " '/home/aritra/cric/images/img/1005.jpg',\n",
       " '/home/aritra/cric/images/img/1005.jpg',\n",
       " '/home/aritra/cric/images/img/1005.jpg',\n",
       " '/home/aritra/cric/images/img/1008.jpg']"
      ]
     },
     "execution_count": 29,
     "metadata": {},
     "output_type": "execute_result"
    }
   ],
   "source": [
    "imgPathList[0:5]"
   ]
  },
  {
   "cell_type": "code",
   "execution_count": 30,
   "id": "158e26b9",
   "metadata": {},
   "outputs": [
    {
     "data": {
      "text/plain": [
       "364921"
      ]
     },
     "execution_count": 30,
     "metadata": {},
     "output_type": "execute_result"
    }
   ],
   "source": [
    "len(imgPathList)"
   ]
  },
  {
   "cell_type": "code",
   "execution_count": 31,
   "id": "65956469",
   "metadata": {},
   "outputs": [],
   "source": [
    "listToDictionary = {'questions':questionList, 'answers':palabels, 'scores':scores, 'images':imgPathList}\n",
    "modified_train_set = Dataset.from_dict(listToDictionary)"
   ]
  },
  {
   "cell_type": "code",
   "execution_count": 32,
   "id": "fe569437",
   "metadata": {},
   "outputs": [],
   "source": [
    "# mapping each filepath to images in the directory\n",
    "\n",
    "modified_train_set = modified_train_set.cast_column(\"images\", datasets.Image())"
   ]
  },
  {
   "cell_type": "code",
   "execution_count": 33,
   "id": "01a43c86",
   "metadata": {},
   "outputs": [
    {
     "data": {
      "text/plain": [
       "Dataset({\n",
       "    features: ['questions', 'answers', 'scores', 'images'],\n",
       "    num_rows: 364921\n",
       "})"
      ]
     },
     "execution_count": 33,
     "metadata": {},
     "output_type": "execute_result"
    }
   ],
   "source": [
    "modified_train_set"
   ]
  },
  {
   "cell_type": "code",
   "execution_count": 34,
   "id": "4e4e3997",
   "metadata": {},
   "outputs": [],
   "source": [
    "import numpy as np\n",
    "test_img = modified_train_set[400]['images'].convert('RGB')\n",
    "test_img.thumbnail((300,300))\n",
    "a = np.asarray(test_img)"
   ]
  },
  {
   "cell_type": "markdown",
   "id": "b7b28f14",
   "metadata": {},
   "source": [
    "### Processing of Validation Set"
   ]
  },
  {
   "cell_type": "code",
   "execution_count": 145,
   "id": "acc81bb2",
   "metadata": {},
   "outputs": [],
   "source": [
    "questionList_val = []\n",
    "answerList_val = []\n",
    "imgList_val = []"
   ]
  },
  {
   "cell_type": "code",
   "execution_count": 146,
   "id": "1b358835",
   "metadata": {},
   "outputs": [
    {
     "data": {
      "text/plain": [
       "'white'"
      ]
     },
     "execution_count": 146,
     "metadata": {},
     "output_type": "execute_result"
    }
   ],
   "source": [
    "val_json[6904]['answer']"
   ]
  },
  {
   "cell_type": "code",
   "execution_count": 147,
   "id": "ce77628e",
   "metadata": {},
   "outputs": [],
   "source": [
    "# collecting the index containing errorneous images\n",
    "\n",
    "indexToExcludeVal = []\n",
    "with open('error_validation.txt', 'r') as file:\n",
    "    for line in file:\n",
    "        number = int(line.strip())\n",
    "        indexToExcludeVal.append(number)\n",
    "            \n",
    "with open('error_validation2.txt', 'r') as file:\n",
    "    for line in file:\n",
    "        number = int(line.strip())\n",
    "        indexToExcludeVal.append(number)"
   ]
  },
  {
   "cell_type": "code",
   "execution_count": 148,
   "id": "08e36650",
   "metadata": {},
   "outputs": [
    {
     "name": "stderr",
     "output_type": "stream",
     "text": [
      "100%|█████████████████████████████████████| 43112/43112 [00:00<00:00, 285415.70it/s]\n"
     ]
    }
   ],
   "source": [
    "# excluding the index containing errorneous images\n",
    "\n",
    "for i in tqdm(range(len(val_json))):\n",
    "    \n",
    "    if (i in indexToExcludeVal):\n",
    "        continue\n",
    "        \n",
    "    pointer = val_json[i]\n",
    "    \n",
    "    questionList_val.append(pointer['question'])\n",
    "    answerList_val.append(pointer['answer'])\n",
    "    imgList_val.append(pointer['image_id'])"
   ]
  },
  {
   "cell_type": "markdown",
   "id": "7f66caaa",
   "metadata": {},
   "source": [
    "43112 -> 43068 -> 43053"
   ]
  },
  {
   "cell_type": "code",
   "execution_count": 149,
   "id": "77490cdc",
   "metadata": {},
   "outputs": [
    {
     "data": {
      "text/plain": [
       "(43053, 43053, 43053)"
      ]
     },
     "execution_count": 149,
     "metadata": {},
     "output_type": "execute_result"
    }
   ],
   "source": [
    "len(questionList_val), len(answerList_val), len(imgList_val)"
   ]
  },
  {
   "cell_type": "code",
   "execution_count": 154,
   "id": "1cf0f1fc",
   "metadata": {},
   "outputs": [],
   "source": [
    "uniqueAnswerListVal = list(set(answerList_val))"
   ]
  },
  {
   "cell_type": "code",
   "execution_count": 155,
   "id": "23288542",
   "metadata": {},
   "outputs": [
    {
     "data": {
      "text/plain": [
       "1139"
      ]
     },
     "execution_count": 155,
     "metadata": {},
     "output_type": "execute_result"
    }
   ],
   "source": [
    "len(uniqueAnswerListVal)"
   ]
  },
  {
   "cell_type": "code",
   "execution_count": 160,
   "id": "057c424f",
   "metadata": {},
   "outputs": [
    {
     "name": "stderr",
     "output_type": "stream",
     "text": [
      "100%|█████████████████████████████████████| 43053/43053 [00:00<00:00, 176862.03it/s]\n"
     ]
    }
   ],
   "source": [
    "# generating multiple possible answers in validation set\n",
    "# palabels means possible answers\n",
    "\n",
    "palabelsVal = []\n",
    "temp = []\n",
    "\n",
    "for i in tqdm(range(len(answerList_val))):\n",
    "    \n",
    "    temp.append(answerList_val[i])\n",
    "    temp.append(uniqueAnswerListVal[random.randint(0,1138)])\n",
    "    temp.append(uniqueAnswerListVal[random.randint(0,1138)])\n",
    "    temp.append(uniqueAnswerListVal[random.randint(0,1138)])\n",
    "    \n",
    "    random.shuffle(temp)\n",
    "    palabelsVal.append(temp)\n",
    "    \n",
    "    temp = []\n",
    "    "
   ]
  },
  {
   "cell_type": "code",
   "execution_count": 162,
   "id": "728109f1",
   "metadata": {},
   "outputs": [
    {
     "data": {
      "text/plain": [
       "[['wood', 'triangular', 'man', 'frame'],\n",
       " ['home', 'yes', 'corn', 'clip'],\n",
       " ['hair', 'fruit', 'neck', 'suv'],\n",
       " ['no', 'green', 'pretzel', 'brown bread'],\n",
       " ['tangerine', 'book', 'tiger', 'notepad']]"
      ]
     },
     "execution_count": 162,
     "metadata": {},
     "output_type": "execute_result"
    }
   ],
   "source": [
    "palabelsVal[0:5]"
   ]
  },
  {
   "cell_type": "code",
   "execution_count": 164,
   "id": "5b7a4bad",
   "metadata": {},
   "outputs": [
    {
     "name": "stderr",
     "output_type": "stream",
     "text": [
      "100%|█████████████████████████████████████| 43053/43053 [00:00<00:00, 367600.24it/s]\n"
     ]
    }
   ],
   "source": [
    "# creating scores of occurence list\n",
    "\n",
    "scores_val = []\n",
    "stemp = []\n",
    "\n",
    "for i in tqdm(range(len(answerList_val))):\n",
    "    correctAnswer = answerList_val[i]\n",
    "    \n",
    "    for j in range(4):\n",
    "        \n",
    "        if palabelsVal[i][j] == correctAnswer:\n",
    "            \n",
    "            stemp.append(1.0)\n",
    "        \n",
    "        else:\n",
    "            \n",
    "            stemp.append(0.33333333333)\n",
    "    \n",
    "    scores_val.append(stemp)\n",
    "    stemp = []\n",
    "    "
   ]
  },
  {
   "cell_type": "code",
   "execution_count": 165,
   "id": "b899ec76",
   "metadata": {},
   "outputs": [
    {
     "data": {
      "text/plain": [
       "[[0.33333333333, 0.33333333333, 1.0, 0.33333333333],\n",
       " [0.33333333333, 1.0, 0.33333333333, 0.33333333333],\n",
       " [1.0, 0.33333333333, 0.33333333333, 0.33333333333],\n",
       " [1.0, 0.33333333333, 0.33333333333, 0.33333333333],\n",
       " [0.33333333333, 1.0, 0.33333333333, 0.33333333333]]"
      ]
     },
     "execution_count": 165,
     "metadata": {},
     "output_type": "execute_result"
    }
   ],
   "source": [
    "scores_val[0:5]"
   ]
  },
  {
   "cell_type": "code",
   "execution_count": 166,
   "id": "ae5516ac",
   "metadata": {},
   "outputs": [],
   "source": [
    "# converting the palabels to numbers through mapping\n",
    "\n",
    "for i in range(len(palabelsVal)):\n",
    "    \n",
    "    for j in range(4):\n",
    "        \n",
    "        palabelsVal[i][j] = mapping[ palabelsVal[i][j] ]\n"
   ]
  },
  {
   "cell_type": "code",
   "execution_count": 167,
   "id": "4773daf9",
   "metadata": {},
   "outputs": [
    {
     "data": {
      "text/plain": [
       "[[934, 114, 829, 1186],\n",
       " [678, 402, 1190, 551],\n",
       " [438, 184, 926, 154],\n",
       " [423, 32, 1282, 358],\n",
       " [23, 715, 876, 19]]"
      ]
     },
     "execution_count": 167,
     "metadata": {},
     "output_type": "execute_result"
    }
   ],
   "source": [
    "palabelsVal[0:5]"
   ]
  },
  {
   "cell_type": "code",
   "execution_count": 168,
   "id": "1b18cba3",
   "metadata": {},
   "outputs": [
    {
     "name": "stderr",
     "output_type": "stream",
     "text": [
      "100%|█████████████████████████████████████| 43053/43053 [00:00<00:00, 340181.21it/s]\n"
     ]
    }
   ],
   "source": [
    "imgPathList_val = []\n",
    "filepath = '/home/aritra/cric/images/img/'\n",
    "\n",
    "for i in tqdm(range(len(imgList_val))):\n",
    "    \n",
    "    imgName = str(imgList_val[i]) + '.jpg'\n",
    "    concatedPath = os.path.join(filepath,imgName)\n",
    "    \n",
    "    imgPathList_val.append(concatedPath)"
   ]
  },
  {
   "cell_type": "code",
   "execution_count": 169,
   "id": "ae9e0ee2",
   "metadata": {},
   "outputs": [
    {
     "data": {
      "text/plain": [
       "['/home/aritra/cric/images/img/1003.jpg',\n",
       " '/home/aritra/cric/images/img/1003.jpg',\n",
       " '/home/aritra/cric/images/img/1018.jpg',\n",
       " '/home/aritra/cric/images/img/1018.jpg',\n",
       " '/home/aritra/cric/images/img/1018.jpg']"
      ]
     },
     "execution_count": 169,
     "metadata": {},
     "output_type": "execute_result"
    }
   ],
   "source": [
    "imgPathList_val[0:5]"
   ]
  },
  {
   "cell_type": "code",
   "execution_count": 170,
   "id": "6dc43b9d",
   "metadata": {},
   "outputs": [],
   "source": [
    "# creating HF dataset to map images fast of Val_set\n",
    "\n",
    "listToDictionary = {'questions_val':questionList_val, 'answers_val':palabelsVal, 'scores_val':scores_val, 'images_val':imgPathList_val}\n",
    "modified_val_set = Dataset.from_dict(listToDictionary)"
   ]
  },
  {
   "cell_type": "code",
   "execution_count": 172,
   "id": "0596e895",
   "metadata": {},
   "outputs": [],
   "source": [
    "# mapping each filepath of Val Set to images in the directory\n",
    "\n",
    "modified_val_set = modified_val_set.cast_column(\"images_val\", datasets.Image())"
   ]
  },
  {
   "cell_type": "code",
   "execution_count": 173,
   "id": "f438fd43",
   "metadata": {},
   "outputs": [
    {
     "data": {
      "image/png": "[encoded data removed]",
      "text/plain": [
       "<PIL.JpegImagePlugin.JpegImageFile image mode=RGB size=300x169>"
      ]
     },
     "execution_count": 173,
     "metadata": {},
     "output_type": "execute_result"
    }
   ],
   "source": [
    "# testing the mapping of Val Set\n",
    "\n",
    "test_img = modified_val_set[600]['images_val']\n",
    "test_img.thumbnail((300,300))\n",
    "test_img"
   ]
  },
  {
   "cell_type": "markdown",
   "id": "607636d1",
   "metadata": {},
   "source": [
    "### -------------------------------End of Processing----------------------------------------------------------------------------"
   ]
  },
  {
   "cell_type": "code",
   "execution_count": 174,
   "id": "e4eb76fb",
   "metadata": {},
   "outputs": [],
   "source": [
    "from transformers import ViltProcessor, ViltForQuestionAnswering"
   ]
  },
  {
   "cell_type": "code",
   "execution_count": 175,
   "id": "a8d574b8",
   "metadata": {},
   "outputs": [],
   "source": [
    "from transformers import ViltConfig\n",
    "config = ViltConfig.from_pretrained(\"dandelin/vilt-b32-finetuned-vqa\")"
   ]
  },
  {
   "cell_type": "code",
   "execution_count": 176,
   "id": "0441da90",
   "metadata": {},
   "outputs": [
    {
     "data": {
      "text/plain": [
       "'cuda'"
      ]
     },
     "execution_count": 176,
     "metadata": {},
     "output_type": "execute_result"
    }
   ],
   "source": [
    "device = \"cuda\" if torch.cuda.is_available() else \"cpu\"\n",
    "device"
   ]
  },
  {
   "cell_type": "code",
   "execution_count": 177,
   "id": "276bc507",
   "metadata": {},
   "outputs": [
    {
     "name": "stderr",
     "output_type": "stream",
     "text": [
      "Some weights of ViltForQuestionAnswering were not initialized from the model checkpoint at dandelin/vilt-b32-mlm and are newly initialized: ['classifier.1.bias', 'classifier.3.bias', 'classifier.0.bias', 'classifier.0.weight', 'classifier.3.weight', 'classifier.1.weight']\n",
      "You should probably TRAIN this model on a down-stream task to be able to use it for predictions and inference.\n"
     ]
    }
   ],
   "source": [
    "processor = ViltProcessor.from_pretrained(\"dandelin/vilt-b32-mlm\")\n",
    "model = ViltForQuestionAnswering.from_pretrained(\"dandelin/vilt-b32-mlm\", id2label = reverse_mapping, label2id = mapping).to(device)"
   ]
  },
  {
   "cell_type": "code",
   "execution_count": 178,
   "id": "dfafe845",
   "metadata": {},
   "outputs": [],
   "source": [
    "from torch.utils.data import DataLoader\n",
    "from datasets import Dataset\n",
    "import numpy as np"
   ]
  },
  {
   "cell_type": "code",
   "execution_count": 179,
   "id": "303430b3",
   "metadata": {},
   "outputs": [],
   "source": [
    "class cric_dataset(Dataset):\n",
    "    \n",
    "    def __init__(self, dataset, processor):\n",
    "        self.processor = processor\n",
    "        self.dataset = dataset\n",
    "\n",
    "    def __len__(self):\n",
    "        return len(self.dataset)\n",
    "\n",
    "    def __getitem__(self,idx):\n",
    "        \n",
    "        #print(idx)\n",
    "        item = self.dataset[idx]\n",
    "\n",
    "        #print(item)\n",
    "        \n",
    "        encodings = self.processor(images = item[\"images\"], text = item[\"questions\"], padding=\"max_length\", truncation=True, return_tensors = \"pt\")\n",
    "        encodings = {k:v.squeeze() for k,v in encodings.items()}\n",
    "\n",
    "        labels = item['answers']\n",
    "        scores = item['scores']\n",
    "        \n",
    "        #print(labels)\n",
    "        #print(scores)\n",
    "        \n",
    "        targetWrapper = []\n",
    "        \n",
    "        for label, score in zip(labels, scores):\n",
    "            \n",
    "            #print(label)\n",
    "            #print(score)\n",
    "            \n",
    "            targets = [0]*len(mapping)\n",
    "            targets = np.asarray(targets, dtype = float)\n",
    "            targets[label] = score\n",
    "            targets = list(targets)\n",
    "            \n",
    "            # check targets\n",
    "            '''\n",
    "            for i in range(len(targets)):\n",
    "                if targets[i] == 0.33333333333:\n",
    "                    print('got 0.3')\n",
    "                if targets[i] == 1.0: \n",
    "                    print('got 1.0')\n",
    "            '''\n",
    "            targetWrapper.append(targets)\n",
    "            \n",
    "            #print(f'Wrapper Now: {targetWrapper}')\n",
    "        \n",
    "        # print(targetWrapper)\n",
    "        \n",
    "        encodings[\"labels\"] = torch.tensor(targetWrapper)\n",
    "        \n",
    "        return encodings"
   ]
  },
  {
   "cell_type": "code",
   "execution_count": 180,
   "id": "fa27f82e",
   "metadata": {},
   "outputs": [],
   "source": [
    "train_dataset_object = cric_dataset(modified_train_set, processor)"
   ]
  },
  {
   "cell_type": "code",
   "execution_count": 181,
   "id": "554586c4",
   "metadata": {},
   "outputs": [],
   "source": [
    "val_dataset_object = cric_dataset(modified_train_set, processor)"
   ]
  },
  {
   "cell_type": "code",
   "execution_count": 182,
   "id": "4b548a09",
   "metadata": {},
   "outputs": [],
   "source": [
    "def collate_fn(batch):\n",
    "  \n",
    "    input_ids = [item['input_ids'] for item in batch]\n",
    "    pixel_values = [item['pixel_values'] for item in batch]\n",
    "    attention_mask = [item['attention_mask'] for item in batch]\n",
    "    token_type_ids = [item['token_type_ids'] for item in batch]\n",
    "    labels = [item['labels'] for item in batch]\n",
    "        \n",
    "    # create padded pixel values and corresponding pixel mask\n",
    "    \n",
    "    encoding = processor.image_processor.pad(pixel_values, return_tensors=\"pt\")\n",
    "\n",
    "    # create new batch\n",
    "    \n",
    "    batch = {}\n",
    "    \n",
    "    batch['input_ids'] = torch.stack(input_ids)\n",
    "    batch['attention_mask'] = torch.stack(attention_mask)\n",
    "    batch['token_type_ids'] = torch.stack(token_type_ids)\n",
    "    batch['pixel_values'] = encoding['pixel_values']\n",
    "    batch['pixel_mask'] = encoding['pixel_mask']\n",
    "    batch['labels'] = torch.stack(labels, dim = 0 )\n",
    "\n",
    "    return batch\n"
   ]
  },
  {
   "cell_type": "code",
   "execution_count": null,
   "id": "fec6556e",
   "metadata": {},
   "outputs": [],
   "source": [
    "train_dataloader = DataLoader(train_dataset_object, collate_fn = collate_fn, shuffle = True, batch_size = 16)"
   ]
  },
  {
   "cell_type": "code",
   "execution_count": null,
   "id": "ed4ff26b",
   "metadata": {},
   "outputs": [],
   "source": [
    "batch = next(iter(train_dataloader))\n",
    "\n",
    "for k,v in batch.items():\n",
    "    print(k, v.shape)\n",
    "    print()\n",
    "    \n",
    "print(len(train_dataloader))\n",
    "\n",
    "print(batch.keys())"
   ]
  },
  {
   "cell_type": "code",
   "execution_count": null,
   "id": "99dcaabb",
   "metadata": {},
   "outputs": [],
   "source": [
    "optimizer = torch.optim.AdamW(model.parameters(), lr=10e-4)\n",
    "\n",
    "model.train()\n",
    "\n",
    "for epoch in tqdm(range(5)):  # loop over the dataset multiple times\n",
    "\n",
    "    print(f\"Epoch: {epoch}\")\n",
    "\n",
    "    for batch in train_dataloader:\n",
    "        # get the inputs;\n",
    "        batch = {k:v.to(device) for k,v in batch.items()}\n",
    "\n",
    "        # zero the parameter gradients\n",
    "        optimizer.zero_grad()\n",
    "\n",
    "        # forward + backward + optimize\n",
    "        outputs = model(**batch)\n",
    "        \n",
    "        loss = outputs.loss\n",
    "        \n",
    "        print(\"Loss:\", loss.item())\n",
    "        \n",
    "        loss.backward()\n",
    "        optimizer.step()"
   ]
  },
  {
   "cell_type": "code",
   "execution_count": 184,
   "id": "0ddf8b23",
   "metadata": {},
   "outputs": [],
   "source": [
    "index = 200"
   ]
  },
  {
   "cell_type": "code",
   "execution_count": 185,
   "id": "10b50d59",
   "metadata": {},
   "outputs": [
    {
     "name": "stdout",
     "output_type": "stream",
     "text": [
      "dict_keys(['input_ids', 'token_type_ids', 'attention_mask', 'pixel_values', 'pixel_mask', 'labels'])\n"
     ]
    }
   ],
   "source": [
    "example = val_dataset_object[index]\n",
    "print(example.keys())"
   ]
  },
  {
   "cell_type": "code",
   "execution_count": null,
   "id": "8e356784",
   "metadata": {},
   "outputs": [],
   "source": []
  }
 ],
 "metadata": {
  "kernelspec": {
   "display_name": "Python 3 (ipykernel)",
   "language": "python",
   "name": "python3"
  },
  "language_info": {
   "codemirror_mode": {
    "name": "ipython",
    "version": 3
   },
   "file_extension": ".py",
   "mimetype": "text/x-python",
   "name": "python",
   "nbconvert_exporter": "python",
   "pygments_lexer": "ipython3",
   "version": "3.8.17"
  }
 },
 "nbformat": 4,
 "nbformat_minor": 5
}
